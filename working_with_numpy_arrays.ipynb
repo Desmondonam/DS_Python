{
  "nbformat": 4,
  "nbformat_minor": 0,
  "metadata": {
    "colab": {
      "provenance": [],
      "authorship_tag": "ABX9TyNGZz8z8gdERsUL1Y/MrqQp",
      "include_colab_link": true
    },
    "kernelspec": {
      "name": "python3",
      "display_name": "Python 3"
    },
    "language_info": {
      "name": "python"
    }
  },
  "cells": [
    {
      "cell_type": "markdown",
      "metadata": {
        "id": "view-in-github",
        "colab_type": "text"
      },
      "source": [
        "<a href=\"https://colab.research.google.com/github/Desmondonam/DS_Python/blob/main/working_with_numpy_arrays.ipynb\" target=\"_parent\"><img src=\"https://colab.research.google.com/assets/colab-badge.svg\" alt=\"Open In Colab\"/></a>"
      ]
    },
    {
      "cell_type": "code",
      "execution_count": null,
      "metadata": {
        "id": "mOm5cOyGEKmP"
      },
      "outputs": [],
      "source": []
    },
    {
      "cell_type": "markdown",
      "source": [
        "Here is a practcal guide on how to make use of numpy and how it is used.\n",
        "\n",
        "NumPy is a powerful library in Python for numerical computing, and it provides support for creating and manipulating arrays and matrices. NumPy arrays, known as ndarrays, are the fundamental data structures in NumPy, and they allow you to perform efficient numerical operations on large datasets."
      ],
      "metadata": {
        "id": "590hU0H0EzRm"
      }
    },
    {
      "cell_type": "code",
      "source": [
        "## importingnumpy to use in the notebook\n",
        "import numpy as np # t"
      ],
      "metadata": {
        "id": "hskKQ4ovFBoU"
      },
      "execution_count": 2,
      "outputs": []
    },
    {
      "cell_type": "markdown",
      "source": [
        "### 2. creating a numpy array"
      ],
      "metadata": {
        "id": "DdfcFM4zFn6p"
      }
    },
    {
      "cell_type": "code",
      "source": [
        "###  you can create it from a python list like this\n",
        "my_list = [1, 2, 3, 4, 5]\n",
        "arr = np.array(my_list)"
      ],
      "metadata": {
        "id": "HaUr-TNbFJss"
      },
      "execution_count": 3,
      "outputs": []
    },
    {
      "cell_type": "code",
      "source": [
        "arr"
      ],
      "metadata": {
        "colab": {
          "base_uri": "https://localhost:8080/"
        },
        "id": "pvgZDrzPHrdi",
        "outputId": "2e8a5d62-28b3-4b11-a2e3-70c9776ccedf"
      },
      "execution_count": 5,
      "outputs": [
        {
          "output_type": "execute_result",
          "data": {
            "text/plain": [
              "array([1, 2, 3, 4, 5])"
            ]
          },
          "metadata": {},
          "execution_count": 5
        }
      ]
    },
    {
      "cell_type": "code",
      "source": [
        "## Usinf built in functions\n",
        "zeros_arr = np.zeros(5)       # Creates an array of zeros with 5 elements\n",
        "ones_arr = np.ones((3, 4))    # Creates a 3x4 array of ones\n",
        "random_arr = np.random.rand(3, 2)  # Creates a 3x2 array with random values between 0 and 1"
      ],
      "metadata": {
        "id": "6XKftYzlF4um"
      },
      "execution_count": 4,
      "outputs": []
    },
    {
      "cell_type": "code",
      "source": [
        "random_arr"
      ],
      "metadata": {
        "colab": {
          "base_uri": "https://localhost:8080/"
        },
        "id": "koxNZAF9Hpsn",
        "outputId": "d7c5a091-bd6d-41b7-9869-4b4e02937982"
      },
      "execution_count": 6,
      "outputs": [
        {
          "output_type": "execute_result",
          "data": {
            "text/plain": [
              "array([[0.93017334, 0.63532656],\n",
              "       [0.42242742, 0.66022189],\n",
              "       [0.04095534, 0.49453441]])"
            ]
          },
          "metadata": {},
          "execution_count": 6
        }
      ]
    },
    {
      "cell_type": "code",
      "source": [
        "## Array attributes\n",
        "arr.shape       # Tuple representing the dimensions of the array (rows, columns)\n",
        "arr.ndim        # Number of array dimensions (1 for a 1D array, 2 for a 2D array, etc.)\n",
        "arr.size        # Total number of elements in the array\n",
        "arr.dtype       # Data type of the array elements"
      ],
      "metadata": {
        "colab": {
          "base_uri": "https://localhost:8080/"
        },
        "id": "-cGWF15iHwWb",
        "outputId": "e6952c5c-118a-4646-da0c-81cbc25bf1f1"
      },
      "execution_count": 7,
      "outputs": [
        {
          "output_type": "execute_result",
          "data": {
            "text/plain": [
              "dtype('int64')"
            ]
          },
          "metadata": {},
          "execution_count": 7
        }
      ]
    },
    {
      "cell_type": "code",
      "source": [
        "## Array indexing and slicing\n",
        "arr[0]            # Access the first element of the array\n",
        "arr[1:4]          # Slice elements from index 1 to 3 (exclusive)\n",
        "arr[::2]          # Select every other element\n"
      ],
      "metadata": {
        "colab": {
          "base_uri": "https://localhost:8080/"
        },
        "id": "d9pPqDSMH4Yf",
        "outputId": "86cfd50a-31e3-4c1c-a8b8-60895db797fb"
      },
      "execution_count": 14,
      "outputs": [
        {
          "output_type": "execute_result",
          "data": {
            "text/plain": [
              "array([1, 3, 5])"
            ]
          },
          "metadata": {},
          "execution_count": 14
        }
      ]
    },
    {
      "cell_type": "code",
      "source": [
        "## Array operations\n",
        "# We can perfom mathematical operation on arrays elements\n",
        "arr1 = np.array([1, 2, 3])\n",
        "arr2 = np.array([4, 5, 6])\n",
        "\n",
        "arr_sum = arr1 + arr2      # Element-wise addition\n",
        "arr_product = arr1 * arr2  # Element-wise multiplication\n",
        "arr_squared = arr1 ** 2    # Element-wise exponentiation"
      ],
      "metadata": {
        "id": "5dJl1AePICPx"
      },
      "execution_count": 15,
      "outputs": []
    },
    {
      "cell_type": "code",
      "source": [
        "arr_sum"
      ],
      "metadata": {
        "colab": {
          "base_uri": "https://localhost:8080/"
        },
        "id": "IUfFWtWfIvGI",
        "outputId": "7d9a21c8-955c-44dc-b94b-5407a3d1f835"
      },
      "execution_count": 16,
      "outputs": [
        {
          "output_type": "execute_result",
          "data": {
            "text/plain": [
              "array([5, 7, 9])"
            ]
          },
          "metadata": {},
          "execution_count": 16
        }
      ]
    },
    {
      "cell_type": "code",
      "source": [
        "arr_product"
      ],
      "metadata": {
        "colab": {
          "base_uri": "https://localhost:8080/"
        },
        "id": "6391Aj4fI0Xb",
        "outputId": "d86d1160-508a-4e15-8bda-243dc0924ff3"
      },
      "execution_count": 17,
      "outputs": [
        {
          "output_type": "execute_result",
          "data": {
            "text/plain": [
              "array([ 4, 10, 18])"
            ]
          },
          "metadata": {},
          "execution_count": 17
        }
      ]
    },
    {
      "cell_type": "code",
      "source": [
        "arr_squared"
      ],
      "metadata": {
        "colab": {
          "base_uri": "https://localhost:8080/"
        },
        "id": "-_Qn2fXnI3fW",
        "outputId": "9f223dc9-5d4c-4d01-81bd-eded3ffe11c1"
      },
      "execution_count": 18,
      "outputs": [
        {
          "output_type": "execute_result",
          "data": {
            "text/plain": [
              "array([1, 4, 9])"
            ]
          },
          "metadata": {},
          "execution_count": 18
        }
      ]
    },
    {
      "cell_type": "code",
      "source": [
        "## Broadcasting\n",
        "## Numpy allows operation on different arrays through broadcasting\n",
        "arr = np.array([[1, 2], [3, 4]])\n",
        "scalar = 2\n",
        "\n",
        "result = arr + scalar\n",
        "# Output:\n",
        "# array([[3, 4],\n",
        "#        [5, 6]])"
      ],
      "metadata": {
        "id": "QcBluuCmI6ZO"
      },
      "execution_count": 19,
      "outputs": []
    },
    {
      "cell_type": "code",
      "source": [
        "result"
      ],
      "metadata": {
        "colab": {
          "base_uri": "https://localhost:8080/"
        },
        "id": "Pa6iRfZ9JL4B",
        "outputId": "55fe8625-f70c-4ce5-b64e-3721e3748501"
      },
      "execution_count": 20,
      "outputs": [
        {
          "output_type": "execute_result",
          "data": {
            "text/plain": [
              "array([[3, 4],\n",
              "       [5, 6]])"
            ]
          },
          "metadata": {},
          "execution_count": 20
        }
      ]
    },
    {
      "cell_type": "code",
      "source": [
        "## Array aggregation\n",
        "# you can compute statistics andaggregate along axes\n",
        "arr.mean()         # Compute the mean of all elements\n",
        "arr.sum(axis=0)    # Sum elements along axis 0 (columns)\n",
        "arr.min(axis=1)    # Find the minimum value along axis 1 (rows)\n",
        "arr.max()          # Find the maximum value in the entire array"
      ],
      "metadata": {
        "colab": {
          "base_uri": "https://localhost:8080/"
        },
        "id": "lENiagMhJPXf",
        "outputId": "fa1dfc20-b484-4c60-9240-7173c35d7a52"
      },
      "execution_count": 21,
      "outputs": [
        {
          "output_type": "execute_result",
          "data": {
            "text/plain": [
              "4"
            ]
          },
          "metadata": {},
          "execution_count": 21
        }
      ]
    },
    {
      "cell_type": "code",
      "source": [
        "## redahping\n",
        "#by using the reshapemethod you can reshape an array\n",
        "arr = np.array([1, 2, 3, 4, 5, 6])\n",
        "reshaped_arr = arr.reshape(2, 3)\n",
        "# Output:\n",
        "# array([[1, 2, 3],\n",
        "#        [4, 5, 6]])"
      ],
      "metadata": {
        "id": "A-HNkr6KKDcv"
      },
      "execution_count": 22,
      "outputs": []
    },
    {
      "cell_type": "code",
      "source": [
        "reshaped_arr"
      ],
      "metadata": {
        "colab": {
          "base_uri": "https://localhost:8080/"
        },
        "id": "nlKv4Wh9KRey",
        "outputId": "93121b12-004c-46b5-e967-3e7fc904e8c9"
      },
      "execution_count": 23,
      "outputs": [
        {
          "output_type": "execute_result",
          "data": {
            "text/plain": [
              "array([[1, 2, 3],\n",
              "       [4, 5, 6]])"
            ]
          },
          "metadata": {},
          "execution_count": 23
        }
      ]
    },
    {
      "cell_type": "code",
      "source": [
        "## array concatination and splitting\n",
        "arr1 = np.array([[1, 2], [3, 4]])\n",
        "arr2 = np.array([[5, 6]])\n",
        "\n",
        "np.concatenate((arr1, arr2), axis=0)\n",
        "# Output:\n",
        "# array([[1, 2],\n",
        "#        [3, 4],\n",
        "#        [5, 6]])"
      ],
      "metadata": {
        "colab": {
          "base_uri": "https://localhost:8080/"
        },
        "id": "LMFu0_U1KU2i",
        "outputId": "beb818a9-fe8c-4b78-d34c-1224a52cce37"
      },
      "execution_count": 24,
      "outputs": [
        {
          "output_type": "execute_result",
          "data": {
            "text/plain": [
              "array([[1, 2],\n",
              "       [3, 4],\n",
              "       [5, 6]])"
            ]
          },
          "metadata": {},
          "execution_count": 24
        }
      ]
    },
    {
      "cell_type": "code",
      "source": [
        "## Array filtering\n",
        "# you cna use boolean to filter array\n",
        "arr = np.array([1, 2, 3, 4, 5])\n",
        "condition = arr > 2\n",
        "\n",
        "filtered_arr = arr[condition]\n",
        "# Output: array([3, 4, 5])"
      ],
      "metadata": {
        "id": "7kD5lUOlKgiJ"
      },
      "execution_count": 25,
      "outputs": []
    },
    {
      "cell_type": "code",
      "source": [
        "filtered_arr"
      ],
      "metadata": {
        "colab": {
          "base_uri": "https://localhost:8080/"
        },
        "id": "5gyevIKGKrSz",
        "outputId": "3df3dbd4-3541-418a-e79c-ec909bc8fad3"
      },
      "execution_count": 26,
      "outputs": [
        {
          "output_type": "execute_result",
          "data": {
            "text/plain": [
              "array([3, 4, 5])"
            ]
          },
          "metadata": {},
          "execution_count": 26
        }
      ]
    },
    {
      "cell_type": "markdown",
      "source": [
        "NumPy provides many more functionalities for advanced numerical computing, such as matrix operations, linear algebra, and Fourier transforms. It is widely used in scientific and data analysis applications due to its performance and ease of use. For more detailed information, you can refer to the official [NumPy documentation](https://numpy.org/doc/stable/)"
      ],
      "metadata": {
        "id": "HeHQ_CCXK1ZY"
      }
    },
    {
      "cell_type": "markdown",
      "source": [
        "# Practical Use with sample data"
      ],
      "metadata": {
        "id": "31fcj63iL-uE"
      }
    },
    {
      "cell_type": "markdown",
      "source": [
        "Let's explore more on how NumPy is used in Python, and we'll use Python's built-in datasets to demonstrate some common NumPy operations.\n",
        "\n",
        "First, make sure you have NumPy installed:"
      ],
      "metadata": {
        "id": "msszYghPMKfU"
      }
    },
    {
      "cell_type": "code",
      "source": [
        "!pip install numpy"
      ],
      "metadata": {
        "colab": {
          "base_uri": "https://localhost:8080/"
        },
        "id": "u2UmBhHYKu0d",
        "outputId": "3bd73892-2139-4c89-b124-a4592f5f916b"
      },
      "execution_count": 27,
      "outputs": [
        {
          "output_type": "stream",
          "name": "stdout",
          "text": [
            "Requirement already satisfied: numpy in /usr/local/lib/python3.10/dist-packages (1.22.4)\n"
          ]
        }
      ]
    },
    {
      "cell_type": "markdown",
      "source": [
        "### 1. Loading Data into NumPy Arrays:\n",
        "We can use NumPy to load data from Python's built-in datasets and convert them into NumPy arrays."
      ],
      "metadata": {
        "id": "5Hiqw6ELMg-p"
      }
    },
    {
      "cell_type": "code",
      "source": [
        "from sklearn.datasets import load_iris\n",
        "\n",
        "# Load the Iris dataset\n",
        "iris = load_iris()\n",
        "data = iris.data\n",
        "target = iris.target\n",
        "\n",
        "# Convert the data to NumPy arrays\n",
        "import numpy as np\n",
        "data_np = np.array(data)\n",
        "target_np = np.array(target)"
      ],
      "metadata": {
        "id": "8E8lZQqJMPb2"
      },
      "execution_count": 28,
      "outputs": []
    },
    {
      "cell_type": "markdown",
      "source": [
        "### 2. Array Arithmetic Operations:\n",
        "NumPy allows us to perform element-wise arithmetic operations on arrays."
      ],
      "metadata": {
        "id": "5cKCC2fjM3Cj"
      }
    },
    {
      "cell_type": "code",
      "source": [
        "import numpy as np\n",
        "\n",
        "a = np.array([1, 2, 3])\n",
        "b = np.array([4, 5, 6])\n",
        "\n",
        "# Element-wise addition\n",
        "result_add = a + b\n",
        "# Output: array([5, 7, 9])\n",
        "\n",
        "# Element-wise multiplication\n",
        "result_mult = a * b\n",
        "# Output: array([4, 10, 18])"
      ],
      "metadata": {
        "id": "8n1IUf7MMt-h"
      },
      "execution_count": 29,
      "outputs": []
    },
    {
      "cell_type": "code",
      "source": [
        "result_add"
      ],
      "metadata": {
        "colab": {
          "base_uri": "https://localhost:8080/"
        },
        "id": "-DTVp7APNAbc",
        "outputId": "4e9ad5b3-d7ed-4552-f58f-b4b8d1723f4b"
      },
      "execution_count": 30,
      "outputs": [
        {
          "output_type": "execute_result",
          "data": {
            "text/plain": [
              "array([5, 7, 9])"
            ]
          },
          "metadata": {},
          "execution_count": 30
        }
      ]
    },
    {
      "cell_type": "code",
      "source": [
        "result_mult"
      ],
      "metadata": {
        "colab": {
          "base_uri": "https://localhost:8080/"
        },
        "id": "0pCmpaQ6NEoB",
        "outputId": "7f03c533-c72d-453a-f685-dad8737f80e5"
      },
      "execution_count": 31,
      "outputs": [
        {
          "output_type": "execute_result",
          "data": {
            "text/plain": [
              "array([ 4, 10, 18])"
            ]
          },
          "metadata": {},
          "execution_count": 31
        }
      ]
    },
    {
      "cell_type": "markdown",
      "source": [
        "### 3. Array Indexing and Slicing:\n",
        "We can use NumPy to perform indexing and slicing operations on arrays."
      ],
      "metadata": {
        "id": "VypJDC3kNShb"
      }
    },
    {
      "cell_type": "code",
      "source": [
        "import numpy as np\n",
        "\n",
        "arr = np.array([1, 2, 3, 4, 5])\n",
        "\n",
        "# Indexing\n",
        "print(arr[0])    # Output: 1\n",
        "print(arr[-1])   # Output: 5\n",
        "\n",
        "# Slicing\n",
        "print(arr[1:4])  # Output: array([2, 3, 4])"
      ],
      "metadata": {
        "colab": {
          "base_uri": "https://localhost:8080/"
        },
        "id": "yP0p9S6oNVKj",
        "outputId": "29d8bf1d-9310-48f5-facb-1d5327351aa1"
      },
      "execution_count": 32,
      "outputs": [
        {
          "output_type": "stream",
          "name": "stdout",
          "text": [
            "1\n",
            "5\n",
            "[2 3 4]\n"
          ]
        }
      ]
    },
    {
      "cell_type": "markdown",
      "source": [
        "### 4. Array Aggregation:\n",
        "NumPy allows us to perform aggregation operations on arrays."
      ],
      "metadata": {
        "id": "fbo4aOMLNdLm"
      }
    },
    {
      "cell_type": "code",
      "source": [
        "import numpy as np\n",
        "\n",
        "arr = np.array([1, 2, 3, 4, 5])\n",
        "\n",
        "# Calculate the mean of the array\n",
        "mean_value = np.mean(arr)\n",
        "# Output: 3.0\n",
        "\n",
        "# Calculate the sum of the array\n",
        "sum_value = np.sum(arr)\n",
        "# Output: 15"
      ],
      "metadata": {
        "id": "Iv5jYuQwNXzW"
      },
      "execution_count": 33,
      "outputs": []
    },
    {
      "cell_type": "code",
      "source": [
        "mean_value"
      ],
      "metadata": {
        "colab": {
          "base_uri": "https://localhost:8080/"
        },
        "id": "wO02sDmGNiiT",
        "outputId": "89f58509-2cd3-408d-a9d1-c28fe23df250"
      },
      "execution_count": 34,
      "outputs": [
        {
          "output_type": "execute_result",
          "data": {
            "text/plain": [
              "3.0"
            ]
          },
          "metadata": {},
          "execution_count": 34
        }
      ]
    },
    {
      "cell_type": "code",
      "source": [
        "sum_value"
      ],
      "metadata": {
        "colab": {
          "base_uri": "https://localhost:8080/"
        },
        "id": "NaUfGtUFNnBt",
        "outputId": "6ee30092-eacf-41b1-e572-975d5ebe1045"
      },
      "execution_count": 35,
      "outputs": [
        {
          "output_type": "execute_result",
          "data": {
            "text/plain": [
              "15"
            ]
          },
          "metadata": {},
          "execution_count": 35
        }
      ]
    },
    {
      "cell_type": "markdown",
      "source": [
        "### 5. Array Reshaping:\n",
        "We can use NumPy to reshape arrays."
      ],
      "metadata": {
        "id": "L6v63GGKNt5x"
      }
    },
    {
      "cell_type": "code",
      "source": [
        "import numpy as np\n",
        "\n",
        "arr = np.array([1, 2, 3, 4, 5, 6])\n",
        "\n",
        "# Reshape the array to a 2x3 matrix\n",
        "reshaped_arr = arr.reshape(2, 3)\n",
        "# Output: array([[1, 2, 3],\n",
        "#                [4, 5, 6]])"
      ],
      "metadata": {
        "id": "KfUThvWlNpIh"
      },
      "execution_count": 36,
      "outputs": []
    },
    {
      "cell_type": "code",
      "source": [
        "reshaped_arr"
      ],
      "metadata": {
        "colab": {
          "base_uri": "https://localhost:8080/"
        },
        "id": "TiKgZR7_Nz0s",
        "outputId": "3a5bd797-acca-4d9e-9413-b989e2a8fbdb"
      },
      "execution_count": 37,
      "outputs": [
        {
          "output_type": "execute_result",
          "data": {
            "text/plain": [
              "array([[1, 2, 3],\n",
              "       [4, 5, 6]])"
            ]
          },
          "metadata": {},
          "execution_count": 37
        }
      ]
    },
    {
      "cell_type": "markdown",
      "source": [
        "### 6. Broadcasting:\n",
        "NumPy supports broadcasting, which allows us to perform operations on arrays with different shapes."
      ],
      "metadata": {
        "id": "_PmIA9HXN7H4"
      }
    },
    {
      "cell_type": "code",
      "source": [
        "import numpy as np\n",
        "\n",
        "arr = np.array([[1, 2], [3, 4]])\n",
        "scalar = 2\n",
        "\n",
        "result = arr + scalar\n",
        "# Output: array([[3, 4],\n",
        "#                [5, 6]])"
      ],
      "metadata": {
        "id": "EIeM-5blN2d4"
      },
      "execution_count": 38,
      "outputs": []
    },
    {
      "cell_type": "code",
      "source": [
        "result"
      ],
      "metadata": {
        "colab": {
          "base_uri": "https://localhost:8080/"
        },
        "id": "pCCwkzAgPEMm",
        "outputId": "863f78ac-b18c-4fd8-d044-1879e6d0638d"
      },
      "execution_count": 39,
      "outputs": [
        {
          "output_type": "execute_result",
          "data": {
            "text/plain": [
              "array([[3, 4],\n",
              "       [5, 6]])"
            ]
          },
          "metadata": {},
          "execution_count": 39
        }
      ]
    },
    {
      "cell_type": "markdown",
      "source": [
        "### 7. Logical Operations and Filtering:\n",
        "We can use NumPy for logical operations and filtering."
      ],
      "metadata": {
        "id": "n2rPglO-PJoD"
      }
    },
    {
      "cell_type": "code",
      "source": [
        "import numpy as np\n",
        "\n",
        "arr = np.array([1, 2, 3, 4, 5])\n",
        "\n",
        "# Boolean indexing to filter elements\n",
        "condition = arr > 2\n",
        "filtered_arr = arr[condition]\n",
        "# Output: array([3, 4, 5])"
      ],
      "metadata": {
        "id": "Gxm5YdoCPFdw"
      },
      "execution_count": 40,
      "outputs": []
    },
    {
      "cell_type": "markdown",
      "source": [
        "# By Use of Iris Dataset"
      ],
      "metadata": {
        "id": "0UBWmV9XPvHl"
      }
    },
    {
      "cell_type": "markdown",
      "source": [
        "In NumPy, there are various data manipulation techniques that you can apply to the Iris dataset. We'll cover some of the common data manipulation operations using NumPy on the Iris dataset.\n",
        "\n",
        "### 1. Loading the Iris Dataset:"
      ],
      "metadata": {
        "id": "5vfJ2xKIP5DB"
      }
    },
    {
      "cell_type": "code",
      "source": [
        "from sklearn.datasets import load_iris\n",
        "\n",
        "# Load the Iris dataset\n",
        "iris = load_iris()\n",
        "data = iris.data\n",
        "target = iris.target"
      ],
      "metadata": {
        "id": "erWrrExlPPgo"
      },
      "execution_count": 41,
      "outputs": []
    },
    {
      "cell_type": "markdown",
      "source": [
        "### 2. Accessing basic information\n",
        "import numpy as np\n"
      ],
      "metadata": {
        "id": "R0pzIrGAQ5jB"
      }
    },
    {
      "cell_type": "code",
      "source": [
        "import numpy as np\n",
        "\n",
        "# Convert the data and target to NumPy arrays\n",
        "data_np = np.array(data)\n",
        "target_np = np.array(target)\n",
        "\n",
        "# Get the shape and data type of the arrays\n",
        "print(\"Shape of data array:\", data_np.shape)\n",
        "print(\"Data type of data array:\", data_np.dtype)\n",
        "print(\"Shape of target array:\", target_np.shape)\n",
        "print(\"Data type of target array:\", target_np.dtype)"
      ],
      "metadata": {
        "colab": {
          "base_uri": "https://localhost:8080/"
        },
        "id": "OA8OPwfNP_oK",
        "outputId": "5e9297ca-14c4-4af0-d259-7fb3df445741"
      },
      "execution_count": 42,
      "outputs": [
        {
          "output_type": "stream",
          "name": "stdout",
          "text": [
            "Shape of data array: (150, 4)\n",
            "Data type of data array: float64\n",
            "Shape of target array: (150,)\n",
            "Data type of target array: int64\n"
          ]
        }
      ]
    },
    {
      "cell_type": "markdown",
      "source": [
        "### 3. Filtering and selecting data"
      ],
      "metadata": {
        "id": "l_H1HmciRIw3"
      }
    },
    {
      "cell_type": "code",
      "source": [
        "import numpy as np\n",
        "\n",
        "# Filter rows where the target is 0 (Setosa)\n",
        "setosa_data = data_np[target_np == 0]\n",
        "\n",
        "# Select the first two features (columns) for Setosa flowers\n",
        "setosa_features = setosa_data[:, :2]"
      ],
      "metadata": {
        "id": "GoIV8FJoRDUQ"
      },
      "execution_count": 43,
      "outputs": []
    },
    {
      "cell_type": "markdown",
      "source": [
        "### 4. Aggregating and summary statistics\n"
      ],
      "metadata": {
        "id": "7WpYXMdCRTCF"
      }
    },
    {
      "cell_type": "code",
      "source": [
        "import numpy as np\n",
        "\n",
        "# Calculate mean, median, and standard deviation of sepal length\n",
        "sepal_length = data_np[:, 0]\n",
        "mean_sepal_length = np.mean(sepal_length)\n",
        "median_sepal_length = np.median(sepal_length)\n",
        "std_sepal_length = np.std(sepal_length)\n",
        "\n",
        "print(\"Mean sepal length:\", mean_sepal_length)\n",
        "print(\"Median sepal length:\", median_sepal_length)\n",
        "print(\"Standard deviation of sepal length:\", std_sepal_length)"
      ],
      "metadata": {
        "colab": {
          "base_uri": "https://localhost:8080/"
        },
        "id": "TZt1FsDJRMQn",
        "outputId": "2a7820f8-97a0-433c-93d0-b87c84933484"
      },
      "execution_count": 44,
      "outputs": [
        {
          "output_type": "stream",
          "name": "stdout",
          "text": [
            "Mean sepal length: 5.843333333333334\n",
            "Median sepal length: 5.8\n",
            "Standard deviation of sepal length: 0.8253012917851409\n"
          ]
        }
      ]
    },
    {
      "cell_type": "markdown",
      "source": [
        "### 5. Data Concatination\n"
      ],
      "metadata": {
        "id": "5mxbaRHoRjHr"
      }
    },
    {
      "cell_type": "code",
      "source": [
        "import numpy as np\n",
        "\n",
        "# Concatenate data_np and target_np horizontally\n",
        "concatenated_data = np.concatenate((data_np, target_np.reshape(-1, 1)), axis=1)"
      ],
      "metadata": {
        "id": "aYLuw5LoRbft"
      },
      "execution_count": 45,
      "outputs": []
    },
    {
      "cell_type": "markdown",
      "source": [
        "### 6. Transposing the data"
      ],
      "metadata": {
        "id": "Qq2Q-0GVRq9u"
      }
    },
    {
      "cell_type": "code",
      "source": [
        "import numpy as np\n",
        "\n",
        "# Transpose the data array\n",
        "transposed_data = data_np.T"
      ],
      "metadata": {
        "id": "MoFQK8uGRmUG"
      },
      "execution_count": 46,
      "outputs": []
    },
    {
      "cell_type": "code",
      "source": [
        "transposed_data"
      ],
      "metadata": {
        "colab": {
          "base_uri": "https://localhost:8080/"
        },
        "id": "9qtNmRxaRthh",
        "outputId": "b1c121ea-b625-4388-914f-8a9f6049e2fb"
      },
      "execution_count": 47,
      "outputs": [
        {
          "output_type": "execute_result",
          "data": {
            "text/plain": [
              "array([[5.1, 4.9, 4.7, 4.6, 5. , 5.4, 4.6, 5. , 4.4, 4.9, 5.4, 4.8, 4.8,\n",
              "        4.3, 5.8, 5.7, 5.4, 5.1, 5.7, 5.1, 5.4, 5.1, 4.6, 5.1, 4.8, 5. ,\n",
              "        5. , 5.2, 5.2, 4.7, 4.8, 5.4, 5.2, 5.5, 4.9, 5. , 5.5, 4.9, 4.4,\n",
              "        5.1, 5. , 4.5, 4.4, 5. , 5.1, 4.8, 5.1, 4.6, 5.3, 5. , 7. , 6.4,\n",
              "        6.9, 5.5, 6.5, 5.7, 6.3, 4.9, 6.6, 5.2, 5. , 5.9, 6. , 6.1, 5.6,\n",
              "        6.7, 5.6, 5.8, 6.2, 5.6, 5.9, 6.1, 6.3, 6.1, 6.4, 6.6, 6.8, 6.7,\n",
              "        6. , 5.7, 5.5, 5.5, 5.8, 6. , 5.4, 6. , 6.7, 6.3, 5.6, 5.5, 5.5,\n",
              "        6.1, 5.8, 5. , 5.6, 5.7, 5.7, 6.2, 5.1, 5.7, 6.3, 5.8, 7.1, 6.3,\n",
              "        6.5, 7.6, 4.9, 7.3, 6.7, 7.2, 6.5, 6.4, 6.8, 5.7, 5.8, 6.4, 6.5,\n",
              "        7.7, 7.7, 6. , 6.9, 5.6, 7.7, 6.3, 6.7, 7.2, 6.2, 6.1, 6.4, 7.2,\n",
              "        7.4, 7.9, 6.4, 6.3, 6.1, 7.7, 6.3, 6.4, 6. , 6.9, 6.7, 6.9, 5.8,\n",
              "        6.8, 6.7, 6.7, 6.3, 6.5, 6.2, 5.9],\n",
              "       [3.5, 3. , 3.2, 3.1, 3.6, 3.9, 3.4, 3.4, 2.9, 3.1, 3.7, 3.4, 3. ,\n",
              "        3. , 4. , 4.4, 3.9, 3.5, 3.8, 3.8, 3.4, 3.7, 3.6, 3.3, 3.4, 3. ,\n",
              "        3.4, 3.5, 3.4, 3.2, 3.1, 3.4, 4.1, 4.2, 3.1, 3.2, 3.5, 3.6, 3. ,\n",
              "        3.4, 3.5, 2.3, 3.2, 3.5, 3.8, 3. , 3.8, 3.2, 3.7, 3.3, 3.2, 3.2,\n",
              "        3.1, 2.3, 2.8, 2.8, 3.3, 2.4, 2.9, 2.7, 2. , 3. , 2.2, 2.9, 2.9,\n",
              "        3.1, 3. , 2.7, 2.2, 2.5, 3.2, 2.8, 2.5, 2.8, 2.9, 3. , 2.8, 3. ,\n",
              "        2.9, 2.6, 2.4, 2.4, 2.7, 2.7, 3. , 3.4, 3.1, 2.3, 3. , 2.5, 2.6,\n",
              "        3. , 2.6, 2.3, 2.7, 3. , 2.9, 2.9, 2.5, 2.8, 3.3, 2.7, 3. , 2.9,\n",
              "        3. , 3. , 2.5, 2.9, 2.5, 3.6, 3.2, 2.7, 3. , 2.5, 2.8, 3.2, 3. ,\n",
              "        3.8, 2.6, 2.2, 3.2, 2.8, 2.8, 2.7, 3.3, 3.2, 2.8, 3. , 2.8, 3. ,\n",
              "        2.8, 3.8, 2.8, 2.8, 2.6, 3. , 3.4, 3.1, 3. , 3.1, 3.1, 3.1, 2.7,\n",
              "        3.2, 3.3, 3. , 2.5, 3. , 3.4, 3. ],\n",
              "       [1.4, 1.4, 1.3, 1.5, 1.4, 1.7, 1.4, 1.5, 1.4, 1.5, 1.5, 1.6, 1.4,\n",
              "        1.1, 1.2, 1.5, 1.3, 1.4, 1.7, 1.5, 1.7, 1.5, 1. , 1.7, 1.9, 1.6,\n",
              "        1.6, 1.5, 1.4, 1.6, 1.6, 1.5, 1.5, 1.4, 1.5, 1.2, 1.3, 1.4, 1.3,\n",
              "        1.5, 1.3, 1.3, 1.3, 1.6, 1.9, 1.4, 1.6, 1.4, 1.5, 1.4, 4.7, 4.5,\n",
              "        4.9, 4. , 4.6, 4.5, 4.7, 3.3, 4.6, 3.9, 3.5, 4.2, 4. , 4.7, 3.6,\n",
              "        4.4, 4.5, 4.1, 4.5, 3.9, 4.8, 4. , 4.9, 4.7, 4.3, 4.4, 4.8, 5. ,\n",
              "        4.5, 3.5, 3.8, 3.7, 3.9, 5.1, 4.5, 4.5, 4.7, 4.4, 4.1, 4. , 4.4,\n",
              "        4.6, 4. , 3.3, 4.2, 4.2, 4.2, 4.3, 3. , 4.1, 6. , 5.1, 5.9, 5.6,\n",
              "        5.8, 6.6, 4.5, 6.3, 5.8, 6.1, 5.1, 5.3, 5.5, 5. , 5.1, 5.3, 5.5,\n",
              "        6.7, 6.9, 5. , 5.7, 4.9, 6.7, 4.9, 5.7, 6. , 4.8, 4.9, 5.6, 5.8,\n",
              "        6.1, 6.4, 5.6, 5.1, 5.6, 6.1, 5.6, 5.5, 4.8, 5.4, 5.6, 5.1, 5.1,\n",
              "        5.9, 5.7, 5.2, 5. , 5.2, 5.4, 5.1],\n",
              "       [0.2, 0.2, 0.2, 0.2, 0.2, 0.4, 0.3, 0.2, 0.2, 0.1, 0.2, 0.2, 0.1,\n",
              "        0.1, 0.2, 0.4, 0.4, 0.3, 0.3, 0.3, 0.2, 0.4, 0.2, 0.5, 0.2, 0.2,\n",
              "        0.4, 0.2, 0.2, 0.2, 0.2, 0.4, 0.1, 0.2, 0.2, 0.2, 0.2, 0.1, 0.2,\n",
              "        0.2, 0.3, 0.3, 0.2, 0.6, 0.4, 0.3, 0.2, 0.2, 0.2, 0.2, 1.4, 1.5,\n",
              "        1.5, 1.3, 1.5, 1.3, 1.6, 1. , 1.3, 1.4, 1. , 1.5, 1. , 1.4, 1.3,\n",
              "        1.4, 1.5, 1. , 1.5, 1.1, 1.8, 1.3, 1.5, 1.2, 1.3, 1.4, 1.4, 1.7,\n",
              "        1.5, 1. , 1.1, 1. , 1.2, 1.6, 1.5, 1.6, 1.5, 1.3, 1.3, 1.3, 1.2,\n",
              "        1.4, 1.2, 1. , 1.3, 1.2, 1.3, 1.3, 1.1, 1.3, 2.5, 1.9, 2.1, 1.8,\n",
              "        2.2, 2.1, 1.7, 1.8, 1.8, 2.5, 2. , 1.9, 2.1, 2. , 2.4, 2.3, 1.8,\n",
              "        2.2, 2.3, 1.5, 2.3, 2. , 2. , 1.8, 2.1, 1.8, 1.8, 1.8, 2.1, 1.6,\n",
              "        1.9, 2. , 2.2, 1.5, 1.4, 2.3, 2.4, 1.8, 1.8, 2.1, 2.4, 2.3, 1.9,\n",
              "        2.3, 2.5, 2.3, 1.9, 2. , 2.3, 1.8]])"
            ]
          },
          "metadata": {},
          "execution_count": 47
        }
      ]
    },
    {
      "cell_type": "markdown",
      "source": [
        "### 7. reshaping the data"
      ],
      "metadata": {
        "id": "ceQ235KTR2A-"
      }
    },
    {
      "cell_type": "code",
      "source": [
        "import numpy as np\n",
        "\n",
        "# Reshape data array to a 2D matrix with 5 rows and 30 columns\n",
        "reshaped_data = data_np.reshape(5, 30)"
      ],
      "metadata": {
        "colab": {
          "base_uri": "https://localhost:8080/",
          "height": 200
        },
        "id": "SC2Wc_wSRwdl",
        "outputId": "a6fa66a1-fd35-42d7-f15e-14c6379b9125"
      },
      "execution_count": 48,
      "outputs": [
        {
          "output_type": "error",
          "ename": "ValueError",
          "evalue": "ignored",
          "traceback": [
            "\u001b[0;31m---------------------------------------------------------------------------\u001b[0m",
            "\u001b[0;31mValueError\u001b[0m                                Traceback (most recent call last)",
            "\u001b[0;32m<ipython-input-48-0854575be28b>\u001b[0m in \u001b[0;36m<cell line: 4>\u001b[0;34m()\u001b[0m\n\u001b[1;32m      2\u001b[0m \u001b[0;34m\u001b[0m\u001b[0m\n\u001b[1;32m      3\u001b[0m \u001b[0;31m# Reshape data array to a 2D matrix with 5 rows and 30 columns\u001b[0m\u001b[0;34m\u001b[0m\u001b[0;34m\u001b[0m\u001b[0m\n\u001b[0;32m----> 4\u001b[0;31m \u001b[0mreshaped_data\u001b[0m \u001b[0;34m=\u001b[0m \u001b[0mdata_np\u001b[0m\u001b[0;34m.\u001b[0m\u001b[0mreshape\u001b[0m\u001b[0;34m(\u001b[0m\u001b[0;36m5\u001b[0m\u001b[0;34m,\u001b[0m \u001b[0;36m30\u001b[0m\u001b[0;34m)\u001b[0m\u001b[0;34m\u001b[0m\u001b[0;34m\u001b[0m\u001b[0m\n\u001b[0m",
            "\u001b[0;31mValueError\u001b[0m: cannot reshape array of size 600 into shape (5,30)"
          ]
        }
      ]
    },
    {
      "cell_type": "markdown",
      "source": [
        "### 8. Sorting the data"
      ],
      "metadata": {
        "id": "8RnvL4e1SEMz"
      }
    },
    {
      "cell_type": "code",
      "source": [
        "\n",
        "import numpy as np\n",
        "\n",
        "# Sort data_np along the first column (sepal length)\n",
        "sorted_data = data_np[data_np[:, 0].argsort()]"
      ],
      "metadata": {
        "id": "UentEaZoR5-f"
      },
      "execution_count": 49,
      "outputs": []
    },
    {
      "cell_type": "code",
      "source": [
        "sorted_data"
      ],
      "metadata": {
        "colab": {
          "base_uri": "https://localhost:8080/"
        },
        "id": "g0xtOk0YSJUX",
        "outputId": "d39ed497-ea4b-4cd3-b14b-8708623ad5dc"
      },
      "execution_count": 50,
      "outputs": [
        {
          "output_type": "execute_result",
          "data": {
            "text/plain": [
              "array([[4.3, 3. , 1.1, 0.1],\n",
              "       [4.4, 3.2, 1.3, 0.2],\n",
              "       [4.4, 3. , 1.3, 0.2],\n",
              "       [4.4, 2.9, 1.4, 0.2],\n",
              "       [4.5, 2.3, 1.3, 0.3],\n",
              "       [4.6, 3.6, 1. , 0.2],\n",
              "       [4.6, 3.1, 1.5, 0.2],\n",
              "       [4.6, 3.4, 1.4, 0.3],\n",
              "       [4.6, 3.2, 1.4, 0.2],\n",
              "       [4.7, 3.2, 1.3, 0.2],\n",
              "       [4.7, 3.2, 1.6, 0.2],\n",
              "       [4.8, 3. , 1.4, 0.1],\n",
              "       [4.8, 3. , 1.4, 0.3],\n",
              "       [4.8, 3.4, 1.9, 0.2],\n",
              "       [4.8, 3.4, 1.6, 0.2],\n",
              "       [4.8, 3.1, 1.6, 0.2],\n",
              "       [4.9, 2.4, 3.3, 1. ],\n",
              "       [4.9, 2.5, 4.5, 1.7],\n",
              "       [4.9, 3.1, 1.5, 0.2],\n",
              "       [4.9, 3.1, 1.5, 0.1],\n",
              "       [4.9, 3.6, 1.4, 0.1],\n",
              "       [4.9, 3. , 1.4, 0.2],\n",
              "       [5. , 3.5, 1.3, 0.3],\n",
              "       [5. , 3.4, 1.6, 0.4],\n",
              "       [5. , 3.3, 1.4, 0.2],\n",
              "       [5. , 3.2, 1.2, 0.2],\n",
              "       [5. , 3.5, 1.6, 0.6],\n",
              "       [5. , 2. , 3.5, 1. ],\n",
              "       [5. , 3.4, 1.5, 0.2],\n",
              "       [5. , 2.3, 3.3, 1. ],\n",
              "       [5. , 3.6, 1.4, 0.2],\n",
              "       [5. , 3. , 1.6, 0.2],\n",
              "       [5.1, 3.8, 1.9, 0.4],\n",
              "       [5.1, 3.8, 1.6, 0.2],\n",
              "       [5.1, 2.5, 3. , 1.1],\n",
              "       [5.1, 3.5, 1.4, 0.2],\n",
              "       [5.1, 3.4, 1.5, 0.2],\n",
              "       [5.1, 3.5, 1.4, 0.3],\n",
              "       [5.1, 3.3, 1.7, 0.5],\n",
              "       [5.1, 3.7, 1.5, 0.4],\n",
              "       [5.1, 3.8, 1.5, 0.3],\n",
              "       [5.2, 4.1, 1.5, 0.1],\n",
              "       [5.2, 3.4, 1.4, 0.2],\n",
              "       [5.2, 3.5, 1.5, 0.2],\n",
              "       [5.2, 2.7, 3.9, 1.4],\n",
              "       [5.3, 3.7, 1.5, 0.2],\n",
              "       [5.4, 3. , 4.5, 1.5],\n",
              "       [5.4, 3.9, 1.7, 0.4],\n",
              "       [5.4, 3.4, 1.7, 0.2],\n",
              "       [5.4, 3.4, 1.5, 0.4],\n",
              "       [5.4, 3.7, 1.5, 0.2],\n",
              "       [5.4, 3.9, 1.3, 0.4],\n",
              "       [5.5, 3.5, 1.3, 0.2],\n",
              "       [5.5, 2.6, 4.4, 1.2],\n",
              "       [5.5, 4.2, 1.4, 0.2],\n",
              "       [5.5, 2.3, 4. , 1.3],\n",
              "       [5.5, 2.4, 3.7, 1. ],\n",
              "       [5.5, 2.4, 3.8, 1.1],\n",
              "       [5.5, 2.5, 4. , 1.3],\n",
              "       [5.6, 3. , 4.1, 1.3],\n",
              "       [5.6, 2.8, 4.9, 2. ],\n",
              "       [5.6, 3. , 4.5, 1.5],\n",
              "       [5.6, 2.5, 3.9, 1.1],\n",
              "       [5.6, 2.7, 4.2, 1.3],\n",
              "       [5.6, 2.9, 3.6, 1.3],\n",
              "       [5.7, 2.6, 3.5, 1. ],\n",
              "       [5.7, 2.9, 4.2, 1.3],\n",
              "       [5.7, 2.8, 4.1, 1.3],\n",
              "       [5.7, 4.4, 1.5, 0.4],\n",
              "       [5.7, 2.8, 4.5, 1.3],\n",
              "       [5.7, 2.5, 5. , 2. ],\n",
              "       [5.7, 3.8, 1.7, 0.3],\n",
              "       [5.7, 3. , 4.2, 1.2],\n",
              "       [5.8, 2.7, 4.1, 1. ],\n",
              "       [5.8, 4. , 1.2, 0.2],\n",
              "       [5.8, 2.6, 4. , 1.2],\n",
              "       [5.8, 2.8, 5.1, 2.4],\n",
              "       [5.8, 2.7, 5.1, 1.9],\n",
              "       [5.8, 2.7, 3.9, 1.2],\n",
              "       [5.8, 2.7, 5.1, 1.9],\n",
              "       [5.9, 3. , 5.1, 1.8],\n",
              "       [5.9, 3. , 4.2, 1.5],\n",
              "       [5.9, 3.2, 4.8, 1.8],\n",
              "       [6. , 2.9, 4.5, 1.5],\n",
              "       [6. , 2.7, 5.1, 1.6],\n",
              "       [6. , 3. , 4.8, 1.8],\n",
              "       [6. , 3.4, 4.5, 1.6],\n",
              "       [6. , 2.2, 4. , 1. ],\n",
              "       [6. , 2.2, 5. , 1.5],\n",
              "       [6.1, 3. , 4.9, 1.8],\n",
              "       [6.1, 2.6, 5.6, 1.4],\n",
              "       [6.1, 2.8, 4. , 1.3],\n",
              "       [6.1, 2.9, 4.7, 1.4],\n",
              "       [6.1, 2.8, 4.7, 1.2],\n",
              "       [6.1, 3. , 4.6, 1.4],\n",
              "       [6.2, 2.2, 4.5, 1.5],\n",
              "       [6.2, 2.9, 4.3, 1.3],\n",
              "       [6.2, 3.4, 5.4, 2.3],\n",
              "       [6.2, 2.8, 4.8, 1.8],\n",
              "       [6.3, 2.5, 4.9, 1.5],\n",
              "       [6.3, 2.7, 4.9, 1.8],\n",
              "       [6.3, 2.5, 5. , 1.9],\n",
              "       [6.3, 3.3, 4.7, 1.6],\n",
              "       [6.3, 2.8, 5.1, 1.5],\n",
              "       [6.3, 3.3, 6. , 2.5],\n",
              "       [6.3, 2.3, 4.4, 1.3],\n",
              "       [6.3, 3.4, 5.6, 2.4],\n",
              "       [6.3, 2.9, 5.6, 1.8],\n",
              "       [6.4, 2.8, 5.6, 2.2],\n",
              "       [6.4, 2.8, 5.6, 2.1],\n",
              "       [6.4, 3.1, 5.5, 1.8],\n",
              "       [6.4, 3.2, 4.5, 1.5],\n",
              "       [6.4, 3.2, 5.3, 2.3],\n",
              "       [6.4, 2.9, 4.3, 1.3],\n",
              "       [6.4, 2.7, 5.3, 1.9],\n",
              "       [6.5, 3. , 5.8, 2.2],\n",
              "       [6.5, 3. , 5.5, 1.8],\n",
              "       [6.5, 3. , 5.2, 2. ],\n",
              "       [6.5, 2.8, 4.6, 1.5],\n",
              "       [6.5, 3.2, 5.1, 2. ],\n",
              "       [6.6, 2.9, 4.6, 1.3],\n",
              "       [6.6, 3. , 4.4, 1.4],\n",
              "       [6.7, 3.1, 4.7, 1.5],\n",
              "       [6.7, 3.1, 5.6, 2.4],\n",
              "       [6.7, 2.5, 5.8, 1.8],\n",
              "       [6.7, 3. , 5. , 1.7],\n",
              "       [6.7, 3.1, 4.4, 1.4],\n",
              "       [6.7, 3.3, 5.7, 2.5],\n",
              "       [6.7, 3. , 5.2, 2.3],\n",
              "       [6.7, 3.3, 5.7, 2.1],\n",
              "       [6.8, 3.2, 5.9, 2.3],\n",
              "       [6.8, 2.8, 4.8, 1.4],\n",
              "       [6.8, 3. , 5.5, 2.1],\n",
              "       [6.9, 3.1, 5.4, 2.1],\n",
              "       [6.9, 3.1, 5.1, 2.3],\n",
              "       [6.9, 3.1, 4.9, 1.5],\n",
              "       [6.9, 3.2, 5.7, 2.3],\n",
              "       [7. , 3.2, 4.7, 1.4],\n",
              "       [7.1, 3. , 5.9, 2.1],\n",
              "       [7.2, 3. , 5.8, 1.6],\n",
              "       [7.2, 3.2, 6. , 1.8],\n",
              "       [7.2, 3.6, 6.1, 2.5],\n",
              "       [7.3, 2.9, 6.3, 1.8],\n",
              "       [7.4, 2.8, 6.1, 1.9],\n",
              "       [7.6, 3. , 6.6, 2.1],\n",
              "       [7.7, 2.8, 6.7, 2. ],\n",
              "       [7.7, 2.6, 6.9, 2.3],\n",
              "       [7.7, 3.8, 6.7, 2.2],\n",
              "       [7.7, 3. , 6.1, 2.3],\n",
              "       [7.9, 3.8, 6.4, 2. ]])"
            ]
          },
          "metadata": {},
          "execution_count": 50
        }
      ]
    },
    {
      "cell_type": "markdown",
      "source": [
        "### 9. Removing duplicates"
      ],
      "metadata": {
        "id": "NJkV26EVSRCf"
      }
    },
    {
      "cell_type": "code",
      "source": [
        "import numpy as np\n",
        "\n",
        "# Create a sample array with duplicate rows\n",
        "sample_array = np.array([[1, 2, 3],\n",
        "                         [4, 5, 6],\n",
        "                         [1, 2, 3]])\n",
        "\n",
        "# Remove duplicate rows\n",
        "unique_array = np.unique(sample_array, axis=0)"
      ],
      "metadata": {
        "id": "fmULfxZeSMh2"
      },
      "execution_count": 51,
      "outputs": []
    },
    {
      "cell_type": "code",
      "source": [
        "unique_array"
      ],
      "metadata": {
        "colab": {
          "base_uri": "https://localhost:8080/"
        },
        "id": "QlYZUK0vSUZs",
        "outputId": "f49c8f2a-86bf-4329-f8d3-149206c6e073"
      },
      "execution_count": 52,
      "outputs": [
        {
          "output_type": "execute_result",
          "data": {
            "text/plain": [
              "array([[1, 2, 3],\n",
              "       [4, 5, 6]])"
            ]
          },
          "metadata": {},
          "execution_count": 52
        }
      ]
    },
    {
      "cell_type": "code",
      "source": [],
      "metadata": {
        "id": "TCaFpujISXJP"
      },
      "execution_count": null,
      "outputs": []
    }
  ]
}