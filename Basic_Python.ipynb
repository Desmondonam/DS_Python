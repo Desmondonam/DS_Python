{
  "nbformat": 4,
  "nbformat_minor": 0,
  "metadata": {
    "colab": {
      "provenance": [],
      "authorship_tag": "ABX9TyN7/VuPvbTS8+GhMm0nl+6e",
      "include_colab_link": true
    },
    "kernelspec": {
      "name": "python3",
      "display_name": "Python 3"
    },
    "language_info": {
      "name": "python"
    }
  },
  "cells": [
    {
      "cell_type": "markdown",
      "metadata": {
        "id": "view-in-github",
        "colab_type": "text"
      },
      "source": [
        "<a href=\"https://colab.research.google.com/github/Desmondonam/DS_Python/blob/main/Basic_Python.ipynb\" target=\"_parent\"><img src=\"https://colab.research.google.com/assets/colab-badge.svg\" alt=\"Open In Colab\"/></a>"
      ]
    },
    {
      "cell_type": "markdown",
      "source": [
        "# Introduction to python Programming from scratch\n",
        "\n",
        "\n"
      ],
      "metadata": {
        "id": "ICtFi67OVfRX"
      }
    },
    {
      "cell_type": "markdown",
      "source": [
        "## Installation\n",
        "You need to have python installed in your computer. Visit www.python.org to download and install python. Verify that you have python installed in your computer by running the python command in your command line"
      ],
      "metadata": {
        "id": "TJPApCO2WFPo"
      }
    },
    {
      "cell_type": "markdown",
      "source": [
        "## Basic Syntax\n",
        "The first is the print hello world"
      ],
      "metadata": {
        "id": "Is2XKo6NZmkb"
      }
    },
    {
      "cell_type": "code",
      "execution_count": null,
      "metadata": {
        "colab": {
          "base_uri": "https://localhost:8080/"
        },
        "id": "UPWFH5VZUUbx",
        "outputId": "6f4255a7-a157-4c2d-a8b7-39cf80b701bb"
      },
      "outputs": [
        {
          "output_type": "stream",
          "name": "stdout",
          "text": [
            "Hello. World\n"
          ]
        }
      ],
      "source": [
        "print(\"Hello. World\")"
      ]
    },
    {
      "cell_type": "markdown",
      "source": [
        "## Variables\n",
        "variables are used to store data values in python. Unlike other programming languages, the python variable in physcally typed, meaning that you do not have to make a declaration of what type it is before hand.\n",
        "Python variables are:\n",
        "here is how to create a variable in python.\n"
      ],
      "metadata": {
        "id": "RRVUbYH2aBzW"
      }
    },
    {
      "cell_type": "code",
      "source": [
        "age = 25\n",
        "name = \"John\"\n",
        "is_student = True"
      ],
      "metadata": {
        "id": "HE3sNiU3Z54l"
      },
      "execution_count": null,
      "outputs": []
    },
    {
      "cell_type": "markdown",
      "source": [
        "## Variables assignment\n",
        "TO assign a value, use the  = sign followd by the value\n",
        "Example above"
      ],
      "metadata": {
        "id": "WIMR2gSeWpBN"
      }
    },
    {
      "cell_type": "markdown",
      "source": [
        "## variable Names\n",
        "variables must the letters(Both capitaland small) number, but cannot start with a number and underscore_. and should not be a python keyword.\n",
        "### data types\n",
        "integers\n",
        "\n",
        "float\n",
        "\n",
        "string\n",
        "\n",
        "Boolean\n",
        "\n",
        "## Reassigning values\n",
        "by placing the new variable\n",
        "\n"
      ],
      "metadata": {
        "id": "xv-NDoPRW_h7"
      }
    },
    {
      "cell_type": "code",
      "source": [
        "x = 20\n",
        "x = 10"
      ],
      "metadata": {
        "id": "gyMkuyntWkGH"
      },
      "execution_count": null,
      "outputs": []
    },
    {
      "cell_type": "code",
      "source": [],
      "metadata": {
        "id": "IG5amlIKaD7C"
      },
      "execution_count": null,
      "outputs": []
    }
  ]
}