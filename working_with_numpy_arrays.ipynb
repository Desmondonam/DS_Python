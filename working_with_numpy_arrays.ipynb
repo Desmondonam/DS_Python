{
  "nbformat": 4,
  "nbformat_minor": 0,
  "metadata": {
    "colab": {
      "provenance": [],
      "authorship_tag": "ABX9TyMj2i6iZCs133cOXRSlK54P",
      "include_colab_link": true
    },
    "kernelspec": {
      "name": "python3",
      "display_name": "Python 3"
    },
    "language_info": {
      "name": "python"
    }
  },
  "cells": [
    {
      "cell_type": "markdown",
      "metadata": {
        "id": "view-in-github",
        "colab_type": "text"
      },
      "source": [
        "<a href=\"https://colab.research.google.com/github/Desmondonam/DS_Python/blob/main/working_with_numpy_arrays.ipynb\" target=\"_parent\"><img src=\"https://colab.research.google.com/assets/colab-badge.svg\" alt=\"Open In Colab\"/></a>"
      ]
    },
    {
      "cell_type": "code",
      "execution_count": null,
      "metadata": {
        "id": "mOm5cOyGEKmP"
      },
      "outputs": [],
      "source": []
    },
    {
      "cell_type": "markdown",
      "source": [
        "Here is a practcal guide on how to make use of numpy and how it is used.\n",
        "\n",
        "NumPy is a powerful library in Python for numerical computing, and it provides support for creating and manipulating arrays and matrices. NumPy arrays, known as ndarrays, are the fundamental data structures in NumPy, and they allow you to perform efficient numerical operations on large datasets."
      ],
      "metadata": {
        "id": "590hU0H0EzRm"
      }
    },
    {
      "cell_type": "code",
      "source": [
        "## importingnumpy to use in the notebook\n",
        "import numpy as np # t"
      ],
      "metadata": {
        "id": "hskKQ4ovFBoU"
      },
      "execution_count": 2,
      "outputs": []
    },
    {
      "cell_type": "markdown",
      "source": [
        "### 2. creating a numpy array"
      ],
      "metadata": {
        "id": "DdfcFM4zFn6p"
      }
    },
    {
      "cell_type": "code",
      "source": [
        "###  you can create it from a python list like this\n",
        "my_list = [1, 2, 3, 4, 5]\n",
        "arr = np.array(my_list)"
      ],
      "metadata": {
        "id": "HaUr-TNbFJss"
      },
      "execution_count": 3,
      "outputs": []
    },
    {
      "cell_type": "code",
      "source": [
        "arr"
      ],
      "metadata": {
        "colab": {
          "base_uri": "https://localhost:8080/"
        },
        "id": "pvgZDrzPHrdi",
        "outputId": "2e8a5d62-28b3-4b11-a2e3-70c9776ccedf"
      },
      "execution_count": 5,
      "outputs": [
        {
          "output_type": "execute_result",
          "data": {
            "text/plain": [
              "array([1, 2, 3, 4, 5])"
            ]
          },
          "metadata": {},
          "execution_count": 5
        }
      ]
    },
    {
      "cell_type": "code",
      "source": [
        "## Usinf built in functions\n",
        "zeros_arr = np.zeros(5)       # Creates an array of zeros with 5 elements\n",
        "ones_arr = np.ones((3, 4))    # Creates a 3x4 array of ones\n",
        "random_arr = np.random.rand(3, 2)  # Creates a 3x2 array with random values between 0 and 1"
      ],
      "metadata": {
        "id": "6XKftYzlF4um"
      },
      "execution_count": 4,
      "outputs": []
    },
    {
      "cell_type": "code",
      "source": [
        "random_arr"
      ],
      "metadata": {
        "colab": {
          "base_uri": "https://localhost:8080/"
        },
        "id": "koxNZAF9Hpsn",
        "outputId": "d7c5a091-bd6d-41b7-9869-4b4e02937982"
      },
      "execution_count": 6,
      "outputs": [
        {
          "output_type": "execute_result",
          "data": {
            "text/plain": [
              "array([[0.93017334, 0.63532656],\n",
              "       [0.42242742, 0.66022189],\n",
              "       [0.04095534, 0.49453441]])"
            ]
          },
          "metadata": {},
          "execution_count": 6
        }
      ]
    },
    {
      "cell_type": "code",
      "source": [
        "## Array attributes\n",
        "arr.shape       # Tuple representing the dimensions of the array (rows, columns)\n",
        "arr.ndim        # Number of array dimensions (1 for a 1D array, 2 for a 2D array, etc.)\n",
        "arr.size        # Total number of elements in the array\n",
        "arr.dtype       # Data type of the array elements"
      ],
      "metadata": {
        "colab": {
          "base_uri": "https://localhost:8080/"
        },
        "id": "-cGWF15iHwWb",
        "outputId": "e6952c5c-118a-4646-da0c-81cbc25bf1f1"
      },
      "execution_count": 7,
      "outputs": [
        {
          "output_type": "execute_result",
          "data": {
            "text/plain": [
              "dtype('int64')"
            ]
          },
          "metadata": {},
          "execution_count": 7
        }
      ]
    },
    {
      "cell_type": "code",
      "source": [
        "## Array indexing and slicing\n",
        "arr[0]            # Access the first element of the array\n",
        "arr[1:4]          # Slice elements from index 1 to 3 (exclusive)\n",
        "arr[::2]          # Select every other element\n"
      ],
      "metadata": {
        "colab": {
          "base_uri": "https://localhost:8080/"
        },
        "id": "d9pPqDSMH4Yf",
        "outputId": "86cfd50a-31e3-4c1c-a8b8-60895db797fb"
      },
      "execution_count": 14,
      "outputs": [
        {
          "output_type": "execute_result",
          "data": {
            "text/plain": [
              "array([1, 3, 5])"
            ]
          },
          "metadata": {},
          "execution_count": 14
        }
      ]
    },
    {
      "cell_type": "code",
      "source": [
        "## Array operations\n",
        "# We can perfom mathematical operation on arrays elements\n",
        "arr1 = np.array([1, 2, 3])\n",
        "arr2 = np.array([4, 5, 6])\n",
        "\n",
        "arr_sum = arr1 + arr2      # Element-wise addition\n",
        "arr_product = arr1 * arr2  # Element-wise multiplication\n",
        "arr_squared = arr1 ** 2    # Element-wise exponentiation"
      ],
      "metadata": {
        "id": "5dJl1AePICPx"
      },
      "execution_count": 15,
      "outputs": []
    },
    {
      "cell_type": "code",
      "source": [
        "arr_sum"
      ],
      "metadata": {
        "colab": {
          "base_uri": "https://localhost:8080/"
        },
        "id": "IUfFWtWfIvGI",
        "outputId": "7d9a21c8-955c-44dc-b94b-5407a3d1f835"
      },
      "execution_count": 16,
      "outputs": [
        {
          "output_type": "execute_result",
          "data": {
            "text/plain": [
              "array([5, 7, 9])"
            ]
          },
          "metadata": {},
          "execution_count": 16
        }
      ]
    },
    {
      "cell_type": "code",
      "source": [
        "arr_product"
      ],
      "metadata": {
        "colab": {
          "base_uri": "https://localhost:8080/"
        },
        "id": "6391Aj4fI0Xb",
        "outputId": "d86d1160-508a-4e15-8bda-243dc0924ff3"
      },
      "execution_count": 17,
      "outputs": [
        {
          "output_type": "execute_result",
          "data": {
            "text/plain": [
              "array([ 4, 10, 18])"
            ]
          },
          "metadata": {},
          "execution_count": 17
        }
      ]
    },
    {
      "cell_type": "code",
      "source": [
        "arr_squared"
      ],
      "metadata": {
        "colab": {
          "base_uri": "https://localhost:8080/"
        },
        "id": "-_Qn2fXnI3fW",
        "outputId": "9f223dc9-5d4c-4d01-81bd-eded3ffe11c1"
      },
      "execution_count": 18,
      "outputs": [
        {
          "output_type": "execute_result",
          "data": {
            "text/plain": [
              "array([1, 4, 9])"
            ]
          },
          "metadata": {},
          "execution_count": 18
        }
      ]
    },
    {
      "cell_type": "code",
      "source": [
        "## Broadcasting\n",
        "## Numpy allows operation on different arrays through broadcasting\n",
        "arr = np.array([[1, 2], [3, 4]])\n",
        "scalar = 2\n",
        "\n",
        "result = arr + scalar\n",
        "# Output:\n",
        "# array([[3, 4],\n",
        "#        [5, 6]])"
      ],
      "metadata": {
        "id": "QcBluuCmI6ZO"
      },
      "execution_count": 19,
      "outputs": []
    },
    {
      "cell_type": "code",
      "source": [
        "result"
      ],
      "metadata": {
        "colab": {
          "base_uri": "https://localhost:8080/"
        },
        "id": "Pa6iRfZ9JL4B",
        "outputId": "55fe8625-f70c-4ce5-b64e-3721e3748501"
      },
      "execution_count": 20,
      "outputs": [
        {
          "output_type": "execute_result",
          "data": {
            "text/plain": [
              "array([[3, 4],\n",
              "       [5, 6]])"
            ]
          },
          "metadata": {},
          "execution_count": 20
        }
      ]
    },
    {
      "cell_type": "code",
      "source": [
        "## Array aggregation\n",
        "# you can compute statistics andaggregate along axes\n",
        "arr.mean()         # Compute the mean of all elements\n",
        "arr.sum(axis=0)    # Sum elements along axis 0 (columns)\n",
        "arr.min(axis=1)    # Find the minimum value along axis 1 (rows)\n",
        "arr.max()          # Find the maximum value in the entire array"
      ],
      "metadata": {
        "colab": {
          "base_uri": "https://localhost:8080/"
        },
        "id": "lENiagMhJPXf",
        "outputId": "fa1dfc20-b484-4c60-9240-7173c35d7a52"
      },
      "execution_count": 21,
      "outputs": [
        {
          "output_type": "execute_result",
          "data": {
            "text/plain": [
              "4"
            ]
          },
          "metadata": {},
          "execution_count": 21
        }
      ]
    },
    {
      "cell_type": "code",
      "source": [
        "## redahping\n",
        "#by using the reshapemethod you can reshape an array\n",
        "arr = np.array([1, 2, 3, 4, 5, 6])\n",
        "reshaped_arr = arr.reshape(2, 3)\n",
        "# Output:\n",
        "# array([[1, 2, 3],\n",
        "#        [4, 5, 6]])"
      ],
      "metadata": {
        "id": "A-HNkr6KKDcv"
      },
      "execution_count": 22,
      "outputs": []
    },
    {
      "cell_type": "code",
      "source": [
        "reshaped_arr"
      ],
      "metadata": {
        "colab": {
          "base_uri": "https://localhost:8080/"
        },
        "id": "nlKv4Wh9KRey",
        "outputId": "93121b12-004c-46b5-e967-3e7fc904e8c9"
      },
      "execution_count": 23,
      "outputs": [
        {
          "output_type": "execute_result",
          "data": {
            "text/plain": [
              "array([[1, 2, 3],\n",
              "       [4, 5, 6]])"
            ]
          },
          "metadata": {},
          "execution_count": 23
        }
      ]
    },
    {
      "cell_type": "code",
      "source": [
        "## array concatination and splitting\n",
        "arr1 = np.array([[1, 2], [3, 4]])\n",
        "arr2 = np.array([[5, 6]])\n",
        "\n",
        "np.concatenate((arr1, arr2), axis=0)\n",
        "# Output:\n",
        "# array([[1, 2],\n",
        "#        [3, 4],\n",
        "#        [5, 6]])"
      ],
      "metadata": {
        "colab": {
          "base_uri": "https://localhost:8080/"
        },
        "id": "LMFu0_U1KU2i",
        "outputId": "beb818a9-fe8c-4b78-d34c-1224a52cce37"
      },
      "execution_count": 24,
      "outputs": [
        {
          "output_type": "execute_result",
          "data": {
            "text/plain": [
              "array([[1, 2],\n",
              "       [3, 4],\n",
              "       [5, 6]])"
            ]
          },
          "metadata": {},
          "execution_count": 24
        }
      ]
    },
    {
      "cell_type": "code",
      "source": [
        "## Array filtering\n",
        "# you cna use boolean to filter array\n",
        "arr = np.array([1, 2, 3, 4, 5])\n",
        "condition = arr > 2\n",
        "\n",
        "filtered_arr = arr[condition]\n",
        "# Output: array([3, 4, 5])"
      ],
      "metadata": {
        "id": "7kD5lUOlKgiJ"
      },
      "execution_count": 25,
      "outputs": []
    },
    {
      "cell_type": "code",
      "source": [
        "filtered_arr"
      ],
      "metadata": {
        "colab": {
          "base_uri": "https://localhost:8080/"
        },
        "id": "5gyevIKGKrSz",
        "outputId": "3df3dbd4-3541-418a-e79c-ec909bc8fad3"
      },
      "execution_count": 26,
      "outputs": [
        {
          "output_type": "execute_result",
          "data": {
            "text/plain": [
              "array([3, 4, 5])"
            ]
          },
          "metadata": {},
          "execution_count": 26
        }
      ]
    },
    {
      "cell_type": "markdown",
      "source": [
        "NumPy provides many more functionalities for advanced numerical computing, such as matrix operations, linear algebra, and Fourier transforms. It is widely used in scientific and data analysis applications due to its performance and ease of use. For more detailed information, you can refer to the official [NumPy documentation](https://numpy.org/doc/stable/)"
      ],
      "metadata": {
        "id": "HeHQ_CCXK1ZY"
      }
    },
    {
      "cell_type": "code",
      "source": [],
      "metadata": {
        "id": "u2UmBhHYKu0d"
      },
      "execution_count": null,
      "outputs": []
    }
  ]
}