{
  "nbformat": 4,
  "nbformat_minor": 0,
  "metadata": {
    "colab": {
      "provenance": [],
      "authorship_tag": "ABX9TyMRe5AkR20y1xavifFHM77Q",
      "include_colab_link": true
    },
    "kernelspec": {
      "name": "python3",
      "display_name": "Python 3"
    },
    "language_info": {
      "name": "python"
    }
  },
  "cells": [
    {
      "cell_type": "markdown",
      "metadata": {
        "id": "view-in-github",
        "colab_type": "text"
      },
      "source": [
        "<a href=\"https://colab.research.google.com/github/Desmondonam/DS_Python/blob/main/Basic_Python.ipynb\" target=\"_parent\"><img src=\"https://colab.research.google.com/assets/colab-badge.svg\" alt=\"Open In Colab\"/></a>"
      ]
    },
    {
      "cell_type": "markdown",
      "source": [
        "# Introduction to python Programming from scratch\n",
        "\n",
        "\n"
      ],
      "metadata": {
        "id": "ICtFi67OVfRX"
      }
    },
    {
      "cell_type": "markdown",
      "source": [
        "## Installation\n",
        "You need to have python installed in your computer. Visit www.python.org to download and install python. Verify that you have python installed in your computer by running the"
      ],
      "metadata": {
        "id": "TJPApCO2WFPo"
      }
    },
    {
      "cell_type": "code",
      "execution_count": null,
      "metadata": {
        "id": "UPWFH5VZUUbx"
      },
      "outputs": [],
      "source": []
    }
  ]
}