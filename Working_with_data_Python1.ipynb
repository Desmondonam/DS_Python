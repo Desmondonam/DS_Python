{
  "nbformat": 4,
  "nbformat_minor": 0,
  "metadata": {
    "colab": {
      "provenance": [],
      "authorship_tag": "ABX9TyOE+QB50eNqSixWXYb9w2ai",
      "include_colab_link": true
    },
    "kernelspec": {
      "name": "python3",
      "display_name": "Python 3"
    },
    "language_info": {
      "name": "python"
    }
  },
  "cells": [
    {
      "cell_type": "markdown",
      "metadata": {
        "id": "view-in-github",
        "colab_type": "text"
      },
      "source": [
        "<a href=\"https://colab.research.google.com/github/Desmondonam/DS_Python/blob/main/Working_with_data_Python1.ipynb\" target=\"_parent\"><img src=\"https://colab.research.google.com/assets/colab-badge.svg\" alt=\"Open In Colab\"/></a>"
      ]
    },
    {
      "cell_type": "markdown",
      "source": [
        "Covered here are :\n",
        "\n",
        "group summaries\n",
        "\n",
        "Managing missing values\n",
        "\n",
        "various types of joins, merge\n",
        "\n",
        "Partitioning data into train test sets\n",
        "\n",
        "scaling of data (Useful for clustering)"
      ],
      "metadata": {
        "id": "XJ--MHghNCdp"
      }
    },
    {
      "cell_type": "code",
      "execution_count": null,
      "metadata": {
        "id": "c6qGksr2Mpcc"
      },
      "outputs": [],
      "source": []
    }
  ]
}