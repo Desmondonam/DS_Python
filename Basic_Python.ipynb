{
  "nbformat": 4,
  "nbformat_minor": 0,
  "metadata": {
    "colab": {
      "provenance": [],
      "authorship_tag": "ABX9TyMkenAjorJhhkxzUxLOdJZv",
      "include_colab_link": true
    },
    "kernelspec": {
      "name": "python3",
      "display_name": "Python 3"
    },
    "language_info": {
      "name": "python"
    }
  },
  "cells": [
    {
      "cell_type": "markdown",
      "metadata": {
        "id": "view-in-github",
        "colab_type": "text"
      },
      "source": [
        "<a href=\"https://colab.research.google.com/github/Desmondonam/DS_Python/blob/main/Basic_Python.ipynb\" target=\"_parent\"><img src=\"https://colab.research.google.com/assets/colab-badge.svg\" alt=\"Open In Colab\"/></a>"
      ]
    },
    {
      "cell_type": "markdown",
      "source": [
        "# Introduction to python Programming from scratch\n",
        "\n",
        "\n"
      ],
      "metadata": {
        "id": "ICtFi67OVfRX"
      }
    },
    {
      "cell_type": "markdown",
      "source": [
        "## Installation\n",
        "You need to have python installed in your computer. Visit www.python.org to download and install python. Verify that you have python installed in your computer by running the python command in your command line"
      ],
      "metadata": {
        "id": "TJPApCO2WFPo"
      }
    },
    {
      "cell_type": "markdown",
      "source": [
        "## The topics to know in getting started to python\n",
        "1. Hello world\n",
        "2. Control flow\n",
        "3. Lists\n",
        "4. Loops\n",
        "5. Functions\n",
        "6. Python code challenges\n",
        "7. Strings\n",
        "8. Modules\n",
        "9. Dictionaries\n",
        "10. Classes\n",
        "11. Files\n",
        "12. Python code Challenge"
      ],
      "metadata": {
        "id": "frjcOLoBMKWQ"
      }
    },
    {
      "cell_type": "markdown",
      "source": [
        "The Glossary is also worth going through.\n",
        "\n",
        "1. Whetting Your Appetite\n",
        "2. Using the Python Interpreter\n",
        "2.1. Invoking the Interpreter\n",
        "2.1.1. Argument Passing\n",
        "2.1.2. Interactive Mode\n",
        "2.2. The Interpreter and Its Environment\n",
        "2.2.1. Source Code Encoding\n",
        "3. An Informal Introduction to Python\n",
        "3.1. Using Python as a Calculator\n",
        "3.1.1. Numbers\n",
        "3.1.2. Strings\n",
        "3.1.3. Lists\n",
        "3.2. First Steps Towards Programming\n",
        "4. More Control Flow Tools\n",
        "4.1. if Statements\n",
        "4.2. for Statements\n",
        "4.3. The range() Function\n",
        "4.4. break and continue Statements, and else Clauses on Loops\n",
        "4.5. pass Statements\n",
        "4.6. match Statements\n",
        "4.7. Defining Functions\n",
        "4.8. More on Defining Functions\n",
        "4.8.1. Default Argument Values\n",
        "4.8.2. Keyword Arguments\n",
        "4.8.3. Special parameters\n",
        "4.8.3.1. Positional-or-Keyword Arguments\n",
        "4.8.3.2. Positional-Only Parameters\n",
        "4.8.3.3. Keyword-Only Arguments\n",
        "4.8.3.4. Function Examples\n",
        "4.8.3.5. Recap\n",
        "4.8.4. Arbitrary Argument Lists\n",
        "4.8.5. Unpacking Argument Lists\n",
        "4.8.6. Lambda Expressions\n",
        "4.8.7. Documentation Strings\n",
        "4.8.8. Function Annotations\n",
        "4.9. Intermezzo: Coding Style\n",
        "5. Data Structures\n",
        "5.1. More on Lists\n",
        "5.1.1. Using Lists as Stacks\n",
        "5.1.2. Using Lists as Queues\n",
        "5.1.3. List Comprehensions\n",
        "5.1.4. Nested List Comprehensions\n",
        "5.2. The del statement\n",
        "5.3. Tuples and Sequences\n",
        "5.4. Sets\n",
        "5.5. Dictionaries\n",
        "5.6. Looping Techniques\n",
        "5.7. More on Conditions\n",
        "5.8. Comparing Sequences and Other Types\n",
        "6. Modules\n",
        "6.1. More on Modules\n",
        "6.1.1. Executing modules as scripts\n",
        "6.1.2. The Module Search Path\n",
        "6.1.3. “Compiled” Python files\n",
        "6.2. Standard Modules\n",
        "6.3. The dir() Function\n",
        "6.4. Packages\n",
        "6.4.1. Importing * From a Package\n",
        "6.4.2. Intra-package References\n",
        "6.4.3. Packages in Multiple Directories\n",
        "7. Input and Output\n",
        "7.1. Fancier Output Formatting\n",
        "7.1.1. Formatted String Literals\n",
        "7.1.2. The String format() Method\n",
        "7.1.3. Manual String Formatting\n",
        "7.1.4. Old string formatting\n",
        "7.2. Reading and Writing Files\n",
        "7.2.1. Methods of File Objects\n",
        "7.2.2. Saving structured data with json\n",
        "8. Errors and Exceptions\n",
        "8.1. Syntax Errors\n",
        "8.2. Exceptions\n",
        "8.3. Handling Exceptions\n",
        "8.4. Raising Exceptions\n",
        "8.5. Exception Chaining\n",
        "8.6. User-defined Exceptions\n",
        "8.7. Defining Clean-up Actions\n",
        "8.8. Predefined Clean-up Actions\n",
        "8.9. Raising and Handling Multiple Unrelated Exceptions\n",
        "8.10. Enriching Exceptions with Notes\n",
        "9. Classes\n",
        "9.1. A Word About Names and Objects\n",
        "9.2. Python Scopes and Namespaces\n",
        "9.2.1. Scopes and Namespaces Example\n",
        "9.3. A First Look at Classes\n",
        "9.3.1. Class Definition Syntax\n",
        "9.3.2. Class Objects\n",
        "9.3.3. Instance Objects\n",
        "9.3.4. Method Objects\n",
        "9.3.5. Class and Instance Variables\n",
        "9.4. Random Remarks\n",
        "9.5. Inheritance\n",
        "9.5.1. Multiple Inheritance\n",
        "9.6. Private Variables\n",
        "9.7. Odds and Ends\n",
        "9.8. Iterators\n",
        "9.9. Generators\n",
        "9.10. Generator Expressions\n",
        "10. Brief Tour of the Standard Library\n",
        "10.1. Operating System Interface\n",
        "10.2. File Wildcards\n",
        "10.3. Command Line Arguments\n",
        "10.4. Error Output Redirection and Program Termination\n",
        "10.5. String Pattern Matching\n",
        "10.6. Mathematics\n",
        "10.7. Internet Access\n",
        "10.8. Dates and Times\n",
        "10.9. Data Compression\n",
        "10.10. Performance Measurement\n",
        "10.11. Quality Control\n",
        "10.12. Batteries Included\n",
        "11. Brief Tour of the Standard Library — Part II\n",
        "11.1. Output Formatting\n",
        "11.2. Templating\n",
        "11.3. Working with Binary Data Record Layouts\n",
        "11.4. Multi-threading\n",
        "11.5. Logging\n",
        "11.6. Weak References\n",
        "11.7. Tools for Working with Lists\n",
        "11.8. Decimal Floating Point Arithmetic\n",
        "12. Virtual Environments and Packages\n",
        "12.1. Introduction\n",
        "12.2. Creating Virtual Environments\n",
        "12.3. Managing Packages with pip\n",
        "13. What Now?\n",
        "14. Interactive Input Editing and History Substitution\n",
        "14.1. Tab Completion and History Editing\n",
        "14.2. Alternatives to the Interactive Interpreter\n",
        "15. Floating Point Arithmetic: Issues and Limitations\n",
        "15.1. Representation Error\n",
        "16. Appendix\n",
        "16.1. Interactive Mode\n",
        "16.1.1. Error Handling\n",
        "16.1.2. Executable Python Scripts\n",
        "16.1.3. The Interactive Startup File\n",
        "16.1.4. The Customization Modules"
      ],
      "metadata": {
        "id": "NZZDS5J_MKKu"
      }
    },
    {
      "cell_type": "markdown",
      "source": [
        "This [link](https://docs.python.org/3/tutorial/) will give you the best of all time python programming"
      ],
      "metadata": {
        "id": "AT6m2pkdMJ72"
      }
    },
    {
      "cell_type": "markdown",
      "source": [
        "## Basic Syntax\n",
        "The first is the print hello world"
      ],
      "metadata": {
        "id": "Is2XKo6NZmkb"
      }
    },
    {
      "cell_type": "code",
      "execution_count": null,
      "metadata": {
        "colab": {
          "base_uri": "https://localhost:8080/"
        },
        "id": "UPWFH5VZUUbx",
        "outputId": "6f4255a7-a157-4c2d-a8b7-39cf80b701bb"
      },
      "outputs": [
        {
          "output_type": "stream",
          "name": "stdout",
          "text": [
            "Hello. World\n"
          ]
        }
      ],
      "source": [
        "print(\"Hello. World\")"
      ]
    },
    {
      "cell_type": "markdown",
      "source": [
        "## Variables\n",
        "variables are used to store data values in python. Unlike other programming languages, the python variable in physcally typed, meaning that you do not have to make a declaration of what type it is before hand.\n",
        "Python variables are:\n",
        "here is how to create a variable in python.\n"
      ],
      "metadata": {
        "id": "RRVUbYH2aBzW"
      }
    },
    {
      "cell_type": "code",
      "source": [
        "age = 25\n",
        "name = \"John\"\n",
        "is_student = True"
      ],
      "metadata": {
        "id": "HE3sNiU3Z54l"
      },
      "execution_count": null,
      "outputs": []
    },
    {
      "cell_type": "markdown",
      "source": [
        "## Variables assignment\n",
        "TO assign a value, use the  = sign followd by the value\n",
        "Example above"
      ],
      "metadata": {
        "id": "WIMR2gSeWpBN"
      }
    },
    {
      "cell_type": "markdown",
      "source": [
        "## variable Names\n",
        "variables must the letters(Both capitaland small) number, but cannot start with a number and underscore_. and should not be a python keyword.\n",
        "### data types\n",
        "integers\n",
        "\n",
        "float\n",
        "\n",
        "string\n",
        "\n",
        "Boolean\n",
        "\n",
        "## Reassigning values\n",
        "by placing the new variable\n",
        "\n"
      ],
      "metadata": {
        "id": "xv-NDoPRW_h7"
      }
    },
    {
      "cell_type": "code",
      "source": [
        "x = 20\n",
        "x = 10"
      ],
      "metadata": {
        "id": "gyMkuyntWkGH"
      },
      "execution_count": null,
      "outputs": []
    },
    {
      "cell_type": "code",
      "source": [],
      "metadata": {
        "id": "IG5amlIKaD7C"
      },
      "execution_count": null,
      "outputs": []
    },
    {
      "cell_type": "markdown",
      "source": [
        "# Assignments Reinforcing what you have learnt so far."
      ],
      "metadata": {
        "id": "1cHSYMivkMZi"
      }
    },
    {
      "cell_type": "markdown",
      "source": [
        "### Here are 20 practical Python assignments that will help you reinforce your skills in variables, loops, and working with data:\n",
        "\n",
        "1. **Simple Calculator:** Write a program that takes two numbers and an operator (+, -, *, /) as input and performs the corresponding operation.\n",
        "\n",
        "2. **Guess the Number:** Create a number guessing game where the program generates a random number, and the user has to guess it within a certain number of attempts.\n",
        "\n",
        "3. **Fibonacci Sequence:** Generate the Fibonacci sequence up to a specified number of terms.\n",
        "\n",
        "4. **Prime Numbers:** Write a function that determines if a given number is prime.\n",
        "\n",
        "5. **Sum of Digits:** Calculate the sum of the digits of a given integer.\n",
        "\n",
        "6. **Reverse String:** Write a function that reverses a given string.\n",
        "\n",
        "7. **Word Count:** Create a program that counts the number of words in a text file.\n",
        "\n",
        "8. **File Encryption/Decryption:** Implement a simple encryption and decryption program for a text file.\n",
        "\n",
        "9. **Shopping List:** Create a program that allows users to add, view, and remove items from their shopping list.\n",
        "\n",
        "10. **Temperature Converter:** Write a program that converts temperatures between Celsius and Fahrenheit.\n",
        "\n",
        "11. **Contact Book:** Create a contact book program that allows users to add, view, and search for contacts.\n",
        "\n",
        "12. **Palindrome Checker:** Write a function that checks if a given word is a palindrome.\n",
        "\n",
        "13. **Rock-Paper-Scissors Game:** Develop a simple text-based rock-paper-scissors game.\n",
        "\n",
        "14. **Word Frequency Counter:** Create a program that reads a text file and counts the frequency of each word.\n",
        "\n",
        "15. **Hangman Game:** Implement a text-based version of the classic Hangman game.\n",
        "\n",
        "16. **Password Generator:** Write a function that generates a random password with a specified length.\n",
        "\n",
        "17. **Dice Rolling Simulator:** Create a program that simulates rolling dice and keeps track of the results.\n",
        "\n",
        "18. **Web Scraping:** Use libraries like requests and BeautifulSoup to scrape data from a website.\n",
        "\n",
        "19. **Data Analysis:** Analyze a dataset (e.g., CSV file) using Python libraries like pandas and matplotlib to generate insights and visualizations.\n",
        "\n",
        "20. **Web Development:** Build a simple web application using a framework like Flask or Django, displaying data or performing some basic tasks.\n",
        "\n",
        "These assignments cover a wide range of practical scenarios, allowing you to practice your Python skills in different contexts. As you work on these projects, you'll gain more confidence in using variables, loops, and handling data in Python. Remember to break down the problems into smaller steps and tackle them one at a time. Happy coding!"
      ],
      "metadata": {
        "id": "bGm--iKDkUeL"
      }
    }
  ]
}