{
  "nbformat": 4,
  "nbformat_minor": 0,
  "metadata": {
    "colab": {
      "provenance": [],
      "authorship_tag": "ABX9TyMDca+XxNAVCZOASblwyo+W",
      "include_colab_link": true
    },
    "kernelspec": {
      "name": "python3",
      "display_name": "Python 3"
    },
    "language_info": {
      "name": "python"
    }
  },
  "cells": [
    {
      "cell_type": "markdown",
      "metadata": {
        "id": "view-in-github",
        "colab_type": "text"
      },
      "source": [
        "<a href=\"https://colab.research.google.com/github/Desmondonam/DS_Python/blob/main/Working_with_pickle_files.ipynb\" target=\"_parent\"><img src=\"https://colab.research.google.com/assets/colab-badge.svg\" alt=\"Open In Colab\"/></a>"
      ]
    },
    {
      "cell_type": "markdown",
      "source": [
        "Producing .pkl files (Pickled files) for models in Python is a common way to save trained machine learning models and their associated metadata. Pickling allows you to serialize Python objects, including models, into a binary format, making it easy to save and load them at a later time. The joblib library is commonly used for pickling machine learning models due to its efficiency with numerical data. Here's a guide to saving and loading models using .pkl files:"
      ],
      "metadata": {
        "id": "jqNEK_OQuFi1"
      }
    },
    {
      "cell_type": "markdown",
      "source": [
        "**Step 1: Install the Required Libraries:**\n",
        "Ensure you have joblib installed. If you don't have it, you can install it using pip:"
      ],
      "metadata": {
        "id": "JmwER-_puO5h"
      }
    },
    {
      "cell_type": "code",
      "execution_count": 2,
      "metadata": {
        "colab": {
          "base_uri": "https://localhost:8080/"
        },
        "id": "SydDw6EXslTU",
        "outputId": "968f9993-2f8d-47a2-8518-c83263e037f1"
      },
      "outputs": [
        {
          "output_type": "stream",
          "name": "stdout",
          "text": [
            "Requirement already satisfied: joblib in /usr/local/lib/python3.10/dist-packages (1.3.1)\n"
          ]
        }
      ],
      "source": [
        "!pip install joblib"
      ]
    },
    {
      "cell_type": "markdown",
      "source": [
        "**Step 2: Train and Save the Model:**\n",
        "For demonstration purposes, let's create and save a simple model using scikit-learn."
      ],
      "metadata": {
        "id": "YDueraDQv-Ca"
      }
    },
    {
      "cell_type": "code",
      "source": [
        "# Import necessary libraries\n",
        "from sklearn.datasets import load_iris\n",
        "from sklearn.model_selection import train_test_split\n",
        "from sklearn.svm import SVC\n",
        "import joblib\n",
        "\n",
        "# Load the dataset\n",
        "data = load_iris()\n",
        "X, y = data.data, data.target\n",
        "\n",
        "# Split the data into training and testing sets\n",
        "X_train, X_test, y_train, y_test = train_test_split(X, y, test_size=0.2, random_state=42)\n",
        "\n",
        "# Create and train the model\n",
        "model = SVC(kernel='linear', C=1.0)\n",
        "model.fit(X_train, y_train)\n",
        "\n",
        "# Save the trained model to a .pkl file\n",
        "joblib.dump(model, 'trained_model.pkl')"
      ],
      "metadata": {
        "colab": {
          "base_uri": "https://localhost:8080/"
        },
        "id": "RzC6BxW-vFHA",
        "outputId": "c53e0b5b-2acc-40dd-e0b6-867d903daa8a"
      },
      "execution_count": 3,
      "outputs": [
        {
          "output_type": "execute_result",
          "data": {
            "text/plain": [
              "['trained_model.pkl']"
            ]
          },
          "metadata": {},
          "execution_count": 3
        }
      ]
    },
    {
      "cell_type": "markdown",
      "source": [
        "### Step 3: Load the Model from the .pkl File\n",
        "You can later load the model using joblib.load():"
      ],
      "metadata": {
        "id": "dZUoTld3wq4r"
      }
    },
    {
      "cell_type": "code",
      "source": [
        "# Load the trained model from the .pkl file\n",
        "loaded_model = joblib.load('trained_model.pkl')\n",
        "\n",
        "# Now you can use the loaded model to make predictions\n",
        "predictions = loaded_model.predict(X_test)"
      ],
      "metadata": {
        "id": "I0wfzXjCwGTY"
      },
      "execution_count": 4,
      "outputs": []
    },
    {
      "cell_type": "markdown",
      "source": [
        "That's it! You have successfully saved a machine learning model to a .pkl file and later loaded it to make predictions.\n",
        "\n",
        "Remember that when using .pkl files, you should ensure that you are using the same version of the libraries and Python when loading the model as when you saved it. Different versions of libraries or Python may cause compatibility issues when loading the model. Also, be cautious when loading .pkl files from untrusted sources, as they may contain malicious code (deserialization attacks). Always ensure that you are loading pickled files from trusted sources or from files you created yourself."
      ],
      "metadata": {
        "id": "WdRp13S8zJjY"
      }
    },
    {
      "cell_type": "code",
      "source": [],
      "metadata": {
        "id": "vcqIU_vGxH3Y"
      },
      "execution_count": null,
      "outputs": []
    }
  ]
}