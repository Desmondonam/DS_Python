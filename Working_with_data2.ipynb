{
  "nbformat": 4,
  "nbformat_minor": 0,
  "metadata": {
    "colab": {
      "provenance": [],
      "authorship_tag": "ABX9TyM5nrpI4nMtN4wgvR1dSMxR",
      "include_colab_link": true
    },
    "kernelspec": {
      "name": "python3",
      "display_name": "Python 3"
    },
    "language_info": {
      "name": "python"
    }
  },
  "cells": [
    {
      "cell_type": "markdown",
      "metadata": {
        "id": "view-in-github",
        "colab_type": "text"
      },
      "source": [
        "<a href=\"https://colab.research.google.com/github/Desmondonam/DS_Python/blob/main/Working_with_data2.ipynb\" target=\"_parent\"><img src=\"https://colab.research.google.com/assets/colab-badge.svg\" alt=\"Open In Colab\"/></a>"
      ]
    },
    {
      "cell_type": "markdown",
      "source": [
        "## Various types of Joins, merges"
      ],
      "metadata": {
        "id": "hTOXnVShUvEg"
      }
    },
    {
      "cell_type": "code",
      "execution_count": 1,
      "metadata": {
        "id": "kgOiIurLUlB0"
      },
      "outputs": [],
      "source": [
        "import pandas as pd\n",
        "\n",
        "# Sample dataframes\n",
        "df1 = pd.DataFrame({'ID': [1, 2, 3, 4],\n",
        "                    'Name': ['Alice', 'Bob', 'Charlie', 'David']})\n",
        "\n",
        "df2 = pd.DataFrame({'ID': [3, 4, 5, 6],\n",
        "                    'Age': [25, 30, 22, 28]})"
      ]
    },
    {
      "cell_type": "code",
      "source": [
        "# Inner join\n",
        "inner_join_result = pd.merge(df1, df2, on='ID', how='inner')\n",
        "print(\"Inner Join:\")\n",
        "print(inner_join_result)\n"
      ],
      "metadata": {
        "colab": {
          "base_uri": "https://localhost:8080/"
        },
        "id": "UmMJNlG5yQv2",
        "outputId": "41906db3-b7c7-4b29-9348-401fe46ffb40"
      },
      "execution_count": 2,
      "outputs": [
        {
          "output_type": "stream",
          "name": "stdout",
          "text": [
            "Inner Join:\n",
            "   ID     Name  Age\n",
            "0   3  Charlie   25\n",
            "1   4    David   30\n"
          ]
        }
      ]
    },
    {
      "cell_type": "code",
      "source": [
        "# Left join\n",
        "left_join_result = pd.merge(df1, df2, on='ID', how='left')\n",
        "print(\"\\nLeft Join:\")\n",
        "print(left_join_result)"
      ],
      "metadata": {
        "colab": {
          "base_uri": "https://localhost:8080/"
        },
        "id": "Dam-a2hgyXAz",
        "outputId": "1d78d80c-9f5c-4ad0-d38d-76a64668b003"
      },
      "execution_count": 3,
      "outputs": [
        {
          "output_type": "stream",
          "name": "stdout",
          "text": [
            "\n",
            "Left Join:\n",
            "   ID     Name   Age\n",
            "0   1    Alice   NaN\n",
            "1   2      Bob   NaN\n",
            "2   3  Charlie  25.0\n",
            "3   4    David  30.0\n"
          ]
        }
      ]
    },
    {
      "cell_type": "code",
      "source": [
        "# Right join\n",
        "right_join_result = pd.merge(df1, df2, on='ID', how='right')\n",
        "print(\"\\nRight Join:\")\n",
        "print(right_join_result)"
      ],
      "metadata": {
        "colab": {
          "base_uri": "https://localhost:8080/"
        },
        "id": "zuanV72EyZsq",
        "outputId": "1d96c9d6-4568-4d54-c651-2a38349c0526"
      },
      "execution_count": 4,
      "outputs": [
        {
          "output_type": "stream",
          "name": "stdout",
          "text": [
            "\n",
            "Right Join:\n",
            "   ID     Name  Age\n",
            "0   3  Charlie   25\n",
            "1   4    David   30\n",
            "2   5      NaN   22\n",
            "3   6      NaN   28\n"
          ]
        }
      ]
    },
    {
      "cell_type": "code",
      "source": [
        "# Full join\n",
        "full_join_result = pd.merge(df1, df2, on='ID', how='outer')\n",
        "print(\"\\nFull Join:\")\n",
        "print(full_join_result)"
      ],
      "metadata": {
        "colab": {
          "base_uri": "https://localhost:8080/"
        },
        "id": "NM9t4lJBycuD",
        "outputId": "dbce329c-5bab-422c-ef43-0c8d8793a8e6"
      },
      "execution_count": 5,
      "outputs": [
        {
          "output_type": "stream",
          "name": "stdout",
          "text": [
            "\n",
            "Full Join:\n",
            "   ID     Name   Age\n",
            "0   1    Alice   NaN\n",
            "1   2      Bob   NaN\n",
            "2   3  Charlie  25.0\n",
            "3   4    David  30.0\n",
            "4   5      NaN  22.0\n",
            "5   6      NaN  28.0\n"
          ]
        }
      ]
    },
    {
      "cell_type": "code",
      "source": [
        "# Concatenation along rows\n",
        "concat_result = pd.concat([df1, df2], axis=0)\n",
        "print(\"\\nConcatenation along rows:\")\n",
        "print(concat_result)"
      ],
      "metadata": {
        "colab": {
          "base_uri": "https://localhost:8080/"
        },
        "id": "RD2-9naeyfX9",
        "outputId": "45a87d36-2027-4c1a-9083-84da7e5653d3"
      },
      "execution_count": 6,
      "outputs": [
        {
          "output_type": "stream",
          "name": "stdout",
          "text": [
            "\n",
            "Concatenation along rows:\n",
            "   ID     Name   Age\n",
            "0   1    Alice   NaN\n",
            "1   2      Bob   NaN\n",
            "2   3  Charlie   NaN\n",
            "3   4    David   NaN\n",
            "0   3      NaN  25.0\n",
            "1   4      NaN  30.0\n",
            "2   5      NaN  22.0\n",
            "3   6      NaN  28.0\n"
          ]
        }
      ]
    },
    {
      "cell_type": "code",
      "source": [
        "# Concatenation along columns\n",
        "concat_result_axis1 = pd.concat([df1, df2], axis=1)\n",
        "print(\"\\nConcatenation along columns:\")\n",
        "print(concat_result_axis1)"
      ],
      "metadata": {
        "colab": {
          "base_uri": "https://localhost:8080/"
        },
        "id": "QrZarUfNyid7",
        "outputId": "cfa68cd7-0a3d-4ca6-f77f-4687020b32b0"
      },
      "execution_count": 7,
      "outputs": [
        {
          "output_type": "stream",
          "name": "stdout",
          "text": [
            "\n",
            "Concatenation along columns:\n",
            "   ID     Name  ID  Age\n",
            "0   1    Alice   3   25\n",
            "1   2      Bob   4   30\n",
            "2   3  Charlie   5   22\n",
            "3   4    David   6   28\n"
          ]
        }
      ]
    },
    {
      "cell_type": "code",
      "source": [],
      "metadata": {
        "id": "RpE7CWDFylN0"
      },
      "execution_count": null,
      "outputs": []
    }
  ]
}