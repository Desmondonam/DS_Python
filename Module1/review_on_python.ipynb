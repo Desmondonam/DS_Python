{
  "cells": [
    {
      "cell_type": "markdown",
      "metadata": {
        "id": "view-in-github",
        "colab_type": "text"
      },
      "source": [
        "<a href=\"https://colab.research.google.com/github/Desmondonam/DS_Python/blob/main/review_on_python.ipynb\" target=\"_parent\"><img src=\"https://colab.research.google.com/assets/colab-badge.svg\" alt=\"Open In Colab\"/></a>"
      ]
    },
    {
      "cell_type": "markdown",
      "metadata": {
        "id": "EkVIdQ_xyAlc"
      },
      "source": [
        "# A Review of python basics"
      ]
    },
    {
      "cell_type": "markdown",
      "metadata": {
        "id": "XyKYQLBAyAmT"
      },
      "source": [
        "## Data Types\n",
        "The data type of a value (or variable in some contexts) is an attribute that tells what kind of data that value can have. Data types define particular characteristics of data used in software programs and inform the compilers about predefined attributes required by specific variables or associated data objects."
      ]
    },
    {
      "cell_type": "markdown",
      "metadata": {
        "id": "OXVZ7bMRyAmZ"
      },
      "source": [
        "## Arithmetic Operations"
      ]
    },
    {
      "cell_type": "code",
      "execution_count": null,
      "metadata": {
        "id": "7SAGLGHYyAmh",
        "outputId": "417c348e-c7b9-4321-9177-2428328f2235"
      },
      "outputs": [
        {
          "data": {
            "text/plain": [
              "2"
            ]
          },
          "execution_count": 1,
          "metadata": {},
          "output_type": "execute_result"
        }
      ],
      "source": [
        "1+1"
      ]
    },
    {
      "cell_type": "code",
      "execution_count": null,
      "metadata": {
        "id": "2v2mCPoZyAm9",
        "outputId": "6971af7c-8e1b-4257-8205-ff4d6d679277"
      },
      "outputs": [
        {
          "data": {
            "text/plain": [
              "1"
            ]
          },
          "execution_count": 2,
          "metadata": {},
          "output_type": "execute_result"
        }
      ],
      "source": [
        "2-1"
      ]
    },
    {
      "cell_type": "code",
      "execution_count": null,
      "metadata": {
        "id": "aojBAPOGyAm_",
        "outputId": "5c85a0f1-0e56-44ae-9d7f-7f0bc179e841"
      },
      "outputs": [
        {
          "data": {
            "text/plain": [
              "4"
            ]
          },
          "execution_count": 3,
          "metadata": {},
          "output_type": "execute_result"
        }
      ],
      "source": [
        "2*2"
      ]
    },
    {
      "cell_type": "code",
      "execution_count": null,
      "metadata": {
        "id": "l8zt0TyZyAnE",
        "outputId": "04e80e22-d496-4e0c-a6ad-d3f706df9d01"
      },
      "outputs": [
        {
          "data": {
            "text/plain": [
              "1.0"
            ]
          },
          "execution_count": 4,
          "metadata": {},
          "output_type": "execute_result"
        }
      ],
      "source": [
        "2/2"
      ]
    },
    {
      "cell_type": "code",
      "execution_count": null,
      "metadata": {
        "id": "ykbbkbocyAnJ",
        "outputId": "8ad5a9e1-94b3-40a4-dd77-a276f453c742"
      },
      "outputs": [
        {
          "data": {
            "text/plain": [
              "4"
            ]
          },
          "execution_count": 5,
          "metadata": {},
          "output_type": "execute_result"
        }
      ],
      "source": [
        "10%6"
      ]
    },
    {
      "cell_type": "code",
      "execution_count": null,
      "metadata": {
        "id": "oRB0ndIUyAnT",
        "outputId": "679ba543-e225-47e0-de60-7a7c9abadf6a"
      },
      "outputs": [
        {
          "data": {
            "text/plain": [
              "1"
            ]
          },
          "execution_count": 6,
          "metadata": {},
          "output_type": "execute_result"
        }
      ],
      "source": [
        "2//2"
      ]
    },
    {
      "cell_type": "code",
      "execution_count": null,
      "metadata": {
        "id": "deM3DcalyAnW",
        "outputId": "7922f2b8-0838-4165-9827-6f43758f5a41"
      },
      "outputs": [
        {
          "data": {
            "text/plain": [
              "27"
            ]
          },
          "execution_count": 7,
          "metadata": {},
          "output_type": "execute_result"
        }
      ],
      "source": [
        "3**3"
      ]
    },
    {
      "cell_type": "code",
      "execution_count": null,
      "metadata": {
        "id": "p2kM003TyAna",
        "outputId": "e3011c83-a3a4-4179-c35e-7b27a8b80887"
      },
      "outputs": [
        {
          "data": {
            "text/plain": [
              "1"
            ]
          },
          "execution_count": 8,
          "metadata": {},
          "output_type": "execute_result"
        }
      ],
      "source": [
        "(3-2)*(3-2)"
      ]
    },
    {
      "cell_type": "markdown",
      "metadata": {
        "id": "v5eSF2w_yAnc"
      },
      "source": [
        "## Variable Declaration\n",
        "A Python variable is a reserved memory location to store values."
      ]
    },
    {
      "cell_type": "code",
      "execution_count": null,
      "metadata": {
        "id": "Fd-KgMzuyAnd"
      },
      "outputs": [],
      "source": [
        "a = 1\n",
        "b = 2"
      ]
    },
    {
      "cell_type": "code",
      "execution_count": null,
      "metadata": {
        "id": "BKHdE50IyAnf"
      },
      "outputs": [],
      "source": [
        "c = a+b"
      ]
    },
    {
      "cell_type": "code",
      "execution_count": null,
      "metadata": {
        "id": "H4XKpHT4yAnh",
        "outputId": "1b6c992e-b461-46da-942b-40d80bd551a8"
      },
      "outputs": [
        {
          "data": {
            "text/plain": [
              "3"
            ]
          },
          "execution_count": 11,
          "metadata": {},
          "output_type": "execute_result"
        }
      ],
      "source": [
        "c"
      ]
    },
    {
      "cell_type": "code",
      "execution_count": null,
      "metadata": {
        "id": "88e3uWFFyAnl"
      },
      "outputs": [],
      "source": [
        "abc = 1\n",
        "ABC = 2\n",
        "aBc = 3"
      ]
    },
    {
      "cell_type": "code",
      "execution_count": null,
      "metadata": {
        "id": "VIZ3ySYWyAnp",
        "outputId": "e06da5f3-5f8e-4797-b785-e750e40ee20b"
      },
      "outputs": [
        {
          "data": {
            "text/plain": [
              "1"
            ]
          },
          "execution_count": 13,
          "metadata": {},
          "output_type": "execute_result"
        }
      ],
      "source": [
        "abc"
      ]
    },
    {
      "cell_type": "markdown",
      "metadata": {
        "id": "zEqUilXMyAn4"
      },
      "source": [
        "# Strings"
      ]
    },
    {
      "cell_type": "code",
      "execution_count": null,
      "metadata": {
        "id": "aEWVcmluyAn9",
        "outputId": "37d763e4-d7e9-45fe-8650-8ad21999d27d"
      },
      "outputs": [
        {
          "data": {
            "text/plain": [
              "'abc'"
            ]
          },
          "execution_count": 14,
          "metadata": {},
          "output_type": "execute_result"
        }
      ],
      "source": [
        "'abc'"
      ]
    },
    {
      "cell_type": "code",
      "execution_count": null,
      "metadata": {
        "id": "mQyocySoyAn_",
        "outputId": "82315679-0b0f-414e-fa72-171c19dc451e"
      },
      "outputs": [
        {
          "data": {
            "text/plain": [
              "'abc'"
            ]
          },
          "execution_count": 15,
          "metadata": {},
          "output_type": "execute_result"
        }
      ],
      "source": [
        "\"abc\""
      ]
    },
    {
      "cell_type": "code",
      "execution_count": null,
      "metadata": {
        "id": "BAAKDqsRyAoW",
        "outputId": "fb79b887-2e14-49f9-e515-feeaf46a6c45"
      },
      "outputs": [
        {
          "data": {
            "text/plain": [
              "\"I'm okay!\""
            ]
          },
          "execution_count": 16,
          "metadata": {},
          "output_type": "execute_result"
        }
      ],
      "source": [
        "\"I'm okay!\""
      ]
    },
    {
      "cell_type": "markdown",
      "metadata": {
        "id": "tG-dh8tyyAoj"
      },
      "source": [
        "## Printing"
      ]
    },
    {
      "cell_type": "code",
      "execution_count": null,
      "metadata": {
        "id": "Tc8R_WdUyAon"
      },
      "outputs": [],
      "source": [
        "a = \"Hello\""
      ]
    },
    {
      "cell_type": "code",
      "execution_count": null,
      "metadata": {
        "scrolled": true,
        "id": "6PwH3BcFyApG",
        "outputId": "ee1c8542-f727-49b1-becd-4471eb65f5be"
      },
      "outputs": [
        {
          "data": {
            "text/plain": [
              "'Hello'"
            ]
          },
          "execution_count": 18,
          "metadata": {},
          "output_type": "execute_result"
        }
      ],
      "source": [
        "a"
      ]
    },
    {
      "cell_type": "code",
      "execution_count": null,
      "metadata": {
        "id": "dA-Pg7PByApY",
        "outputId": "a364dfcc-f704-478d-d68b-b08b151e12da"
      },
      "outputs": [
        {
          "name": "stdout",
          "output_type": "stream",
          "text": [
            "Hello\n"
          ]
        }
      ],
      "source": [
        "print(a)"
      ]
    },
    {
      "cell_type": "code",
      "execution_count": null,
      "metadata": {
        "id": "tH7B7WSqyApl"
      },
      "outputs": [],
      "source": [
        "name = \"Desmond Onam\"\n",
        "age = 40"
      ]
    },
    {
      "cell_type": "code",
      "execution_count": null,
      "metadata": {
        "id": "V1HJXt0JyApn",
        "outputId": "6a2317af-823c-4814-aa3e-3aff8ebee380"
      },
      "outputs": [
        {
          "name": "stdout",
          "output_type": "stream",
          "text": [
            "The name of Desmond Onam is 40\n"
          ]
        }
      ],
      "source": [
        "print(\"The name of {a} is {b}\".format(a=name, b=age))"
      ]
    },
    {
      "cell_type": "markdown",
      "metadata": {
        "id": "tchRu_62yAqA"
      },
      "source": [
        "## String Splicing"
      ]
    },
    {
      "cell_type": "code",
      "execution_count": null,
      "metadata": {
        "id": "iJ_Zx-iOyAqI"
      },
      "outputs": [],
      "source": [
        "a = \"abcdefghijklmnop\""
      ]
    },
    {
      "cell_type": "code",
      "execution_count": null,
      "metadata": {
        "id": "1CGqBbi3yAqO",
        "outputId": "814b073a-5e12-48e5-fe5e-5e797844a677"
      },
      "outputs": [
        {
          "data": {
            "text/plain": [
              "'a'"
            ]
          },
          "execution_count": 24,
          "metadata": {},
          "output_type": "execute_result"
        }
      ],
      "source": [
        "a[0]"
      ]
    },
    {
      "cell_type": "code",
      "execution_count": null,
      "metadata": {
        "id": "_eomj3b7yAqV",
        "outputId": "b89e7c0b-cce7-4dc8-a358-e4dca251e6e9"
      },
      "outputs": [
        {
          "data": {
            "text/plain": [
              "'d'"
            ]
          },
          "execution_count": 25,
          "metadata": {},
          "output_type": "execute_result"
        }
      ],
      "source": [
        "a[3]"
      ]
    },
    {
      "cell_type": "code",
      "execution_count": null,
      "metadata": {
        "id": "hsdh4IIFyAqY",
        "outputId": "d2324685-0635-4ce3-c3c8-49ced78d81d9"
      },
      "outputs": [
        {
          "data": {
            "text/plain": [
              "'abcdefghijklmnop'"
            ]
          },
          "execution_count": 26,
          "metadata": {},
          "output_type": "execute_result"
        }
      ],
      "source": [
        "a[:]"
      ]
    },
    {
      "cell_type": "markdown",
      "metadata": {
        "id": "AiDo7pxDyAqr"
      },
      "source": [
        "## Lists\n",
        "A list is a data structure in Python that is a mutable, or changeable, ordered sequence of elements. Each element or value that is inside of a list is called an item. Just as strings are defined as characters between quotes, lists are defined by having values between square brackets [].\n"
      ]
    },
    {
      "cell_type": "markdown",
      "metadata": {
        "id": "NXRJfK2UyAqw"
      },
      "source": [
        "Lists are used to store multiple items in a single variable."
      ]
    },
    {
      "cell_type": "code",
      "execution_count": 1,
      "metadata": {
        "id": "dp5Xvz8OyAqx"
      },
      "outputs": [],
      "source": [
        "a=[1,2,3,4,5]"
      ]
    },
    {
      "cell_type": "code",
      "execution_count": 2,
      "metadata": {
        "colab": {
          "base_uri": "https://localhost:8080/"
        },
        "id": "8BzgWBvDyAq4",
        "outputId": "2f72e037-f889-415a-87a2-b273ef0c8529"
      },
      "outputs": [
        {
          "output_type": "execute_result",
          "data": {
            "text/plain": [
              "[1, 2, 3, 4, 5]"
            ]
          },
          "metadata": {},
          "execution_count": 2
        }
      ],
      "source": [
        "a"
      ]
    },
    {
      "cell_type": "code",
      "execution_count": 3,
      "metadata": {
        "id": "-XvA3dKuyAq9"
      },
      "outputs": [],
      "source": [
        "b = ['a','b','c','d','e','f']"
      ]
    },
    {
      "cell_type": "code",
      "execution_count": 4,
      "metadata": {
        "colab": {
          "base_uri": "https://localhost:8080/"
        },
        "id": "Y5P17bANyArA",
        "outputId": "95e32f9a-5849-4057-efb6-334a17297f48"
      },
      "outputs": [
        {
          "output_type": "execute_result",
          "data": {
            "text/plain": [
              "['a', 'b', 'c', 'd', 'e', 'f']"
            ]
          },
          "metadata": {},
          "execution_count": 4
        }
      ],
      "source": [
        "b"
      ]
    },
    {
      "cell_type": "code",
      "execution_count": 5,
      "metadata": {
        "id": "3PIsTjDryArC"
      },
      "outputs": [],
      "source": [
        "c = ['a',1,'b',2]"
      ]
    },
    {
      "cell_type": "code",
      "execution_count": 6,
      "metadata": {
        "colab": {
          "base_uri": "https://localhost:8080/"
        },
        "id": "TWAmVyPkyAsE",
        "outputId": "f2592b2b-1dd1-432c-c02d-8963861f92e1"
      },
      "outputs": [
        {
          "output_type": "execute_result",
          "data": {
            "text/plain": [
              "['a', 1, 'b', 2]"
            ]
          },
          "metadata": {},
          "execution_count": 6
        }
      ],
      "source": [
        "c"
      ]
    },
    {
      "cell_type": "code",
      "execution_count": 7,
      "metadata": {
        "id": "qlxJr8kyyAsN"
      },
      "outputs": [],
      "source": [
        "a.append(6)"
      ]
    },
    {
      "cell_type": "code",
      "execution_count": 8,
      "metadata": {
        "colab": {
          "base_uri": "https://localhost:8080/"
        },
        "id": "jD2uxn1VyAsR",
        "outputId": "d9a8a733-fd09-48a4-e664-a10d3beb3822"
      },
      "outputs": [
        {
          "output_type": "execute_result",
          "data": {
            "text/plain": [
              "[1, 2, 3, 4, 5, 6]"
            ]
          },
          "metadata": {},
          "execution_count": 8
        }
      ],
      "source": [
        "a"
      ]
    },
    {
      "cell_type": "code",
      "execution_count": 9,
      "metadata": {
        "id": "0vNIVhjQyAsc"
      },
      "outputs": [],
      "source": [
        "b.append(\"g\")"
      ]
    },
    {
      "cell_type": "code",
      "execution_count": 10,
      "metadata": {
        "colab": {
          "base_uri": "https://localhost:8080/"
        },
        "id": "AWHlQAeUyAsd",
        "outputId": "9a4d72ad-4ca4-42b4-ff4b-6b9bb9e91f05"
      },
      "outputs": [
        {
          "output_type": "execute_result",
          "data": {
            "text/plain": [
              "['a', 'b', 'c', 'd', 'e', 'f', 'g']"
            ]
          },
          "metadata": {},
          "execution_count": 10
        }
      ],
      "source": [
        "b"
      ]
    },
    {
      "cell_type": "code",
      "execution_count": 11,
      "metadata": {
        "colab": {
          "base_uri": "https://localhost:8080/"
        },
        "id": "sLg9205FyAsh",
        "outputId": "37a9b7cd-aaf6-45b9-c2b0-37e6bbeea6f4"
      },
      "outputs": [
        {
          "output_type": "execute_result",
          "data": {
            "text/plain": [
              "1"
            ]
          },
          "metadata": {},
          "execution_count": 11
        }
      ],
      "source": [
        "a[0]"
      ]
    },
    {
      "cell_type": "code",
      "execution_count": 12,
      "metadata": {
        "colab": {
          "base_uri": "https://localhost:8080/"
        },
        "id": "mueCEC7FyAsw",
        "outputId": "9dc77465-b3e5-4567-c6ad-63ebe39e7cc5"
      },
      "outputs": [
        {
          "output_type": "execute_result",
          "data": {
            "text/plain": [
              "[2, 3, 4]"
            ]
          },
          "metadata": {},
          "execution_count": 12
        }
      ],
      "source": [
        "a[1:4]"
      ]
    },
    {
      "cell_type": "code",
      "execution_count": 13,
      "metadata": {
        "colab": {
          "base_uri": "https://localhost:8080/"
        },
        "id": "3YmXKd8FyAs7",
        "outputId": "7ff68e2b-790d-4b9b-d086-0f2f503b16c8"
      },
      "outputs": [
        {
          "output_type": "execute_result",
          "data": {
            "text/plain": [
              "[1, 2, 3, 4]"
            ]
          },
          "metadata": {},
          "execution_count": 13
        }
      ],
      "source": [
        "a[:4]"
      ]
    },
    {
      "cell_type": "code",
      "execution_count": 14,
      "metadata": {
        "colab": {
          "base_uri": "https://localhost:8080/"
        },
        "id": "74_f5josyAtO",
        "outputId": "4625f56b-3817-4cee-9c6d-9e07b134cfdc"
      },
      "outputs": [
        {
          "output_type": "execute_result",
          "data": {
            "text/plain": [
              "[3, 4, 5, 6]"
            ]
          },
          "metadata": {},
          "execution_count": 14
        }
      ],
      "source": [
        "a[2:]"
      ]
    },
    {
      "cell_type": "code",
      "execution_count": null,
      "metadata": {
        "id": "yFQ_nvayyAtQ",
        "outputId": "789e85a7-4b03-4d86-9aeb-8b7cb8e8cdad"
      },
      "outputs": [
        {
          "data": {
            "text/plain": [
              "['a', 'b', 'c', 'd', 'e', 'f', 'g']"
            ]
          },
          "execution_count": 41,
          "metadata": {},
          "output_type": "execute_result"
        }
      ],
      "source": [
        "b"
      ]
    },
    {
      "cell_type": "code",
      "execution_count": null,
      "metadata": {
        "id": "PSWMqdpPyAtb"
      },
      "outputs": [],
      "source": [
        "b[0]=\"NEW\""
      ]
    },
    {
      "cell_type": "code",
      "execution_count": null,
      "metadata": {
        "id": "YyOTxSUGyAtd",
        "outputId": "1ab5bf79-2f84-41c4-ad9a-ff81100a7296"
      },
      "outputs": [
        {
          "data": {
            "text/plain": [
              "['NEW', 'b', 'c', 'd', 'e', 'f', 'g']"
            ]
          },
          "execution_count": 43,
          "metadata": {},
          "output_type": "execute_result"
        }
      ],
      "source": [
        "b"
      ]
    },
    {
      "cell_type": "code",
      "execution_count": 15,
      "metadata": {
        "colab": {
          "base_uri": "https://localhost:8080/"
        },
        "id": "bE8C8AIoyAtk",
        "outputId": "dde99a6e-f8e3-42ca-fb44-332bc6e5fe54"
      },
      "outputs": [
        {
          "output_type": "execute_result",
          "data": {
            "text/plain": [
              "[[1, 2, 3], [4, 5, 6], [7, 8, 9]]"
            ]
          },
          "metadata": {},
          "execution_count": 15
        }
      ],
      "source": [
        "## NESTED LISTS\n",
        "\n",
        "nested = [[1, 2, 3], [4, 5, 6], [7, 8, 9]]\n",
        "nested"
      ]
    },
    {
      "cell_type": "code",
      "execution_count": 16,
      "metadata": {
        "colab": {
          "base_uri": "https://localhost:8080/"
        },
        "id": "9lt_ho0JyAtv",
        "outputId": "65a7262b-c681-48d0-99f2-8fe754386e68"
      },
      "outputs": [
        {
          "output_type": "execute_result",
          "data": {
            "text/plain": [
              "[1, 2, 3]"
            ]
          },
          "metadata": {},
          "execution_count": 16
        }
      ],
      "source": [
        "nested[0]"
      ]
    },
    {
      "cell_type": "code",
      "execution_count": 17,
      "metadata": {
        "colab": {
          "base_uri": "https://localhost:8080/"
        },
        "id": "ih0hwi6EyAt0",
        "outputId": "c32f0102-b3d6-46a1-ca16-23c20b5e64ed"
      },
      "outputs": [
        {
          "output_type": "execute_result",
          "data": {
            "text/plain": [
              "4"
            ]
          },
          "metadata": {},
          "execution_count": 17
        }
      ],
      "source": [
        "nested[1][0]"
      ]
    },
    {
      "cell_type": "markdown",
      "metadata": {
        "id": "nvid-wNzyAt4"
      },
      "source": [
        "## Dictionaries\n",
        "Dictionaries are Python’s implementation of a data structure that is more generally known as an associative array. A dictionary consists of a collection of key-value pairs. Each key-value pair maps the key to its associated value."
      ]
    },
    {
      "cell_type": "markdown",
      "metadata": {
        "id": "QNE9ae9OyAt-"
      },
      "source": [
        "You can define a dictionary by enclosing a comma-separated list of key-value pairs in curly braces ({}). A colon (:) separates each key from its associated value"
      ]
    },
    {
      "cell_type": "markdown",
      "metadata": {
        "id": "et_bheIayAuE"
      },
      "source": [
        "Dictionaries does not allow duplicates"
      ]
    },
    {
      "cell_type": "code",
      "execution_count": null,
      "metadata": {
        "id": "fFh7f-J3yAuM"
      },
      "outputs": [],
      "source": [
        "a = [1,2,3,4,5]"
      ]
    },
    {
      "cell_type": "code",
      "execution_count": 19,
      "metadata": {
        "id": "y8nuaV9jyAuQ"
      },
      "outputs": [],
      "source": [
        "b = {\"student1\":\"Desmond Onam\", \"student2\":\"Tom\", \"student3\":\"Jack\"}"
      ]
    },
    {
      "cell_type": "code",
      "source": [
        "b"
      ],
      "metadata": {
        "colab": {
          "base_uri": "https://localhost:8080/"
        },
        "id": "z8YZRBom1Lqo",
        "outputId": "595ec1f8-c73e-49f0-d2e2-f205166f9781"
      },
      "execution_count": 20,
      "outputs": [
        {
          "output_type": "execute_result",
          "data": {
            "text/plain": [
              "{'student1': 'Desmond Onam', 'student2': 'Tom', 'student3': 'Jack'}"
            ]
          },
          "metadata": {},
          "execution_count": 20
        }
      ]
    },
    {
      "cell_type": "code",
      "execution_count": 21,
      "metadata": {
        "colab": {
          "base_uri": "https://localhost:8080/",
          "height": 35
        },
        "id": "BNTnX3viyAuX",
        "outputId": "a2c8d632-b949-4b2d-cc38-3f85478cebc4"
      },
      "outputs": [
        {
          "output_type": "execute_result",
          "data": {
            "text/plain": [
              "'Desmond Onam'"
            ],
            "application/vnd.google.colaboratory.intrinsic+json": {
              "type": "string"
            }
          },
          "metadata": {},
          "execution_count": 21
        }
      ],
      "source": [
        "b[\"student1\"]"
      ]
    },
    {
      "cell_type": "code",
      "execution_count": 22,
      "metadata": {
        "colab": {
          "base_uri": "https://localhost:8080/",
          "height": 35
        },
        "id": "qs_s6gmgyAuZ",
        "outputId": "4b0e3ce4-c4cf-4492-a128-5f7e0087307f"
      },
      "outputs": [
        {
          "output_type": "execute_result",
          "data": {
            "text/plain": [
              "'Tom'"
            ],
            "application/vnd.google.colaboratory.intrinsic+json": {
              "type": "string"
            }
          },
          "metadata": {},
          "execution_count": 22
        }
      ],
      "source": [
        "b[\"student2\"]"
      ]
    },
    {
      "cell_type": "code",
      "execution_count": 23,
      "metadata": {
        "id": "-8kAcoNiyAuc"
      },
      "outputs": [],
      "source": [
        "c = {\"student1\":[1,2,3,4,5]}"
      ]
    },
    {
      "cell_type": "code",
      "execution_count": 24,
      "metadata": {
        "colab": {
          "base_uri": "https://localhost:8080/"
        },
        "id": "X8ddIE7PyAud",
        "outputId": "de6fb581-742a-40b7-bdda-9a063fe565bb"
      },
      "outputs": [
        {
          "output_type": "execute_result",
          "data": {
            "text/plain": [
              "3"
            ]
          },
          "metadata": {},
          "execution_count": 24
        }
      ],
      "source": [
        "c[\"student1\"][2]"
      ]
    },
    {
      "cell_type": "code",
      "execution_count": null,
      "metadata": {
        "id": "v34IVIc4yAui"
      },
      "outputs": [],
      "source": [
        "c = {\"student1\":{\"age\":20}}"
      ]
    },
    {
      "cell_type": "code",
      "execution_count": null,
      "metadata": {
        "id": "IqOQRsKwyAuo",
        "outputId": "042ade3f-919d-49b7-bda3-db8f93db075d"
      },
      "outputs": [
        {
          "data": {
            "text/plain": [
              "20"
            ]
          },
          "execution_count": 55,
          "metadata": {},
          "output_type": "execute_result"
        }
      ],
      "source": [
        "c[\"student1\"][\"age\"]"
      ]
    },
    {
      "cell_type": "markdown",
      "metadata": {
        "id": "GOXKKYVQyAu2"
      },
      "source": [
        "## Tuples"
      ]
    },
    {
      "cell_type": "markdown",
      "metadata": {
        "id": "QTJ8JnDYyAu4"
      },
      "source": [
        "Tuples are used to store multiple items in a single variable.\n",
        "\n",
        "Tuple is one of 4 built-in data types in Python used to store collections of data, the other 3 are List, Set, and Dictionary, all with different qualities and usage.\n",
        "\n",
        "A tuple is a collection which is ordered and unchangeable (IMMUTABLE)\n",
        "\n",
        "Tuples are written with round brackets."
      ]
    },
    {
      "cell_type": "code",
      "execution_count": 25,
      "metadata": {
        "id": "XkdExiqbyAu5"
      },
      "outputs": [],
      "source": [
        "a = (1,2,3,4,5)"
      ]
    },
    {
      "cell_type": "code",
      "execution_count": 26,
      "metadata": {
        "id": "7hP4Kmj4yAu6"
      },
      "outputs": [],
      "source": [
        "b = [1,2,3,4,5]"
      ]
    },
    {
      "cell_type": "code",
      "execution_count": 27,
      "metadata": {
        "id": "n9HwDIYGyAu_"
      },
      "outputs": [],
      "source": [
        "b.append(6)"
      ]
    },
    {
      "cell_type": "code",
      "execution_count": 28,
      "metadata": {
        "colab": {
          "base_uri": "https://localhost:8080/"
        },
        "id": "m_anVU0xyAvA",
        "outputId": "161ddab4-ce42-484e-e7cf-719ce5c1c24e"
      },
      "outputs": [
        {
          "output_type": "execute_result",
          "data": {
            "text/plain": [
              "[1, 2, 3, 4, 5, 6]"
            ]
          },
          "metadata": {},
          "execution_count": 28
        }
      ],
      "source": [
        "b"
      ]
    },
    {
      "cell_type": "code",
      "execution_count": 29,
      "metadata": {
        "colab": {
          "base_uri": "https://localhost:8080/",
          "height": 165
        },
        "id": "2WV3q5LlyAvX",
        "outputId": "802cd5eb-d791-4777-944a-6af20c41f809"
      },
      "outputs": [
        {
          "output_type": "error",
          "ename": "AttributeError",
          "evalue": "ignored",
          "traceback": [
            "\u001b[0;31m---------------------------------------------------------------------------\u001b[0m",
            "\u001b[0;31mAttributeError\u001b[0m                            Traceback (most recent call last)",
            "\u001b[0;32m<ipython-input-29-a09ce8848fdf>\u001b[0m in \u001b[0;36m<cell line: 1>\u001b[0;34m()\u001b[0m\n\u001b[0;32m----> 1\u001b[0;31m \u001b[0ma\u001b[0m\u001b[0;34m.\u001b[0m\u001b[0mappend\u001b[0m\u001b[0;34m(\u001b[0m\u001b[0;36m6\u001b[0m\u001b[0;34m)\u001b[0m\u001b[0;34m\u001b[0m\u001b[0;34m\u001b[0m\u001b[0m\n\u001b[0m",
            "\u001b[0;31mAttributeError\u001b[0m: 'tuple' object has no attribute 'append'"
          ]
        }
      ],
      "source": [
        "a.append(6)"
      ]
    },
    {
      "cell_type": "markdown",
      "metadata": {
        "id": "Zh0_yIOEyAve"
      },
      "source": [
        "## Sets"
      ]
    },
    {
      "cell_type": "code",
      "execution_count": 30,
      "metadata": {
        "id": "BqAgARAJyAvm"
      },
      "outputs": [],
      "source": [
        "a = {1,2,3,4,5}"
      ]
    },
    {
      "cell_type": "code",
      "execution_count": 31,
      "metadata": {
        "colab": {
          "base_uri": "https://localhost:8080/"
        },
        "id": "BJVc2uuFyAvn",
        "outputId": "e83923d3-5377-4c58-bcfb-b9627c7b82ed"
      },
      "outputs": [
        {
          "output_type": "execute_result",
          "data": {
            "text/plain": [
              "{1, 2, 3, 4, 5}"
            ]
          },
          "metadata": {},
          "execution_count": 31
        }
      ],
      "source": [
        "a"
      ]
    },
    {
      "cell_type": "code",
      "execution_count": 32,
      "metadata": {
        "id": "vP94B8BdyAvp"
      },
      "outputs": [],
      "source": [
        "a = {1,1,1,1,1,1,1,1,1}"
      ]
    },
    {
      "cell_type": "code",
      "execution_count": 33,
      "metadata": {
        "colab": {
          "base_uri": "https://localhost:8080/"
        },
        "id": "ULCXUDe9yAvt",
        "outputId": "01911fc7-50b6-4d3a-e9d9-dae575ee7f0b"
      },
      "outputs": [
        {
          "output_type": "execute_result",
          "data": {
            "text/plain": [
              "{1}"
            ]
          },
          "metadata": {},
          "execution_count": 33
        }
      ],
      "source": [
        "a"
      ]
    },
    {
      "cell_type": "code",
      "execution_count": 34,
      "metadata": {
        "id": "2MjJ8igqyAvv"
      },
      "outputs": [],
      "source": [
        "b = {1,1,1,2,2,2,3,3,3}"
      ]
    },
    {
      "cell_type": "code",
      "execution_count": 35,
      "metadata": {
        "colab": {
          "base_uri": "https://localhost:8080/"
        },
        "id": "eSwJ5blJyAvy",
        "outputId": "b67a87d8-679a-46bb-abf2-fc0f613b3598"
      },
      "outputs": [
        {
          "output_type": "execute_result",
          "data": {
            "text/plain": [
              "{1, 2, 3}"
            ]
          },
          "metadata": {},
          "execution_count": 35
        }
      ],
      "source": [
        "b"
      ]
    },
    {
      "cell_type": "markdown",
      "metadata": {
        "id": "F7zbSxdoyAv2"
      },
      "source": [
        "## Operators"
      ]
    },
    {
      "cell_type": "code",
      "execution_count": 36,
      "metadata": {
        "colab": {
          "base_uri": "https://localhost:8080/"
        },
        "id": "bNtR8PLfyAv3",
        "outputId": "d632d0a5-6b51-498c-aa94-be756cdb8a74"
      },
      "outputs": [
        {
          "output_type": "execute_result",
          "data": {
            "text/plain": [
              "True"
            ]
          },
          "metadata": {},
          "execution_count": 36
        }
      ],
      "source": [
        "#Less than\n",
        "1 < 2"
      ]
    },
    {
      "cell_type": "code",
      "execution_count": null,
      "metadata": {
        "id": "FE4SnUTgyAv6",
        "outputId": "b0d98244-488c-423e-8683-24c47c928d83"
      },
      "outputs": [
        {
          "data": {
            "text/plain": [
              "False"
            ]
          },
          "execution_count": 68,
          "metadata": {},
          "output_type": "execute_result"
        }
      ],
      "source": [
        "2 > 3"
      ]
    },
    {
      "cell_type": "code",
      "execution_count": null,
      "metadata": {
        "id": "yIVzrthoyAv9",
        "outputId": "e3d997e8-b63a-4b42-a10c-9a7f8a2ecb63"
      },
      "outputs": [
        {
          "data": {
            "text/plain": [
              "True"
            ]
          },
          "execution_count": 69,
          "metadata": {},
          "output_type": "execute_result"
        }
      ],
      "source": [
        "2 <= 3"
      ]
    },
    {
      "cell_type": "code",
      "execution_count": null,
      "metadata": {
        "id": "m0jNW4P7yAwC",
        "outputId": "5f7a1db6-93db-4310-a6c6-91d0ce9f33bb"
      },
      "outputs": [
        {
          "data": {
            "text/plain": [
              "False"
            ]
          },
          "execution_count": 70,
          "metadata": {},
          "output_type": "execute_result"
        }
      ],
      "source": [
        "3 >= 4"
      ]
    },
    {
      "cell_type": "code",
      "execution_count": null,
      "metadata": {
        "id": "x6LlkueoyAwE",
        "outputId": "d97ee85e-dbab-4c46-8001-e824beca1e5c"
      },
      "outputs": [
        {
          "data": {
            "text/plain": [
              "False"
            ]
          },
          "execution_count": 71,
          "metadata": {},
          "output_type": "execute_result"
        }
      ],
      "source": [
        "2==3"
      ]
    },
    {
      "cell_type": "code",
      "execution_count": null,
      "metadata": {
        "id": "KyC8lDAQyAwH",
        "outputId": "74e48006-9102-489b-ab54-d03412300c26"
      },
      "outputs": [
        {
          "data": {
            "text/plain": [
              "False"
            ]
          },
          "execution_count": 72,
          "metadata": {},
          "output_type": "execute_result"
        }
      ],
      "source": [
        "3!=3"
      ]
    },
    {
      "cell_type": "code",
      "execution_count": null,
      "metadata": {
        "id": "r2eadnBzyAwK"
      },
      "outputs": [],
      "source": [
        "## Logical Operators"
      ]
    },
    {
      "cell_type": "code",
      "execution_count": null,
      "metadata": {
        "id": "bZBPNAACyAwL",
        "outputId": "a9c840ef-9fbc-479b-beb2-140ad4c82234"
      },
      "outputs": [
        {
          "data": {
            "text/plain": [
              "False"
            ]
          },
          "execution_count": 74,
          "metadata": {},
          "output_type": "execute_result"
        }
      ],
      "source": [
        "(1>2) and (2>1)"
      ]
    },
    {
      "cell_type": "code",
      "execution_count": null,
      "metadata": {
        "id": "bwR04TmZyAwN",
        "outputId": "edc0f533-81b5-4243-9909-030ce9661e90"
      },
      "outputs": [
        {
          "data": {
            "text/plain": [
              "True"
            ]
          },
          "execution_count": 75,
          "metadata": {},
          "output_type": "execute_result"
        }
      ],
      "source": [
        "(1>2) or (2>1)"
      ]
    },
    {
      "cell_type": "markdown",
      "metadata": {
        "id": "nj8M_X0VyAwV"
      },
      "source": [
        "## If Else Statements"
      ]
    },
    {
      "cell_type": "code",
      "execution_count": null,
      "metadata": {
        "id": "mVUk3UK9yAwX",
        "outputId": "d44916fd-85c0-4b0e-9d7f-ef0f8e88cc34"
      },
      "outputs": [
        {
          "name": "stdout",
          "output_type": "stream",
          "text": [
            "Task failed\n"
          ]
        }
      ],
      "source": [
        "if 1>2:\n",
        "    print(\"Task Successful\")\n",
        "elif 3>4:\n",
        "    print(\"Task 2 Successful\")\n",
        "else:\n",
        "    print(\"Task failed\")"
      ]
    },
    {
      "cell_type": "markdown",
      "metadata": {
        "id": "HIgvgZpkyAwY"
      },
      "source": [
        "## For Loops"
      ]
    },
    {
      "cell_type": "code",
      "execution_count": null,
      "metadata": {
        "id": "IK58VIdnyAwa",
        "outputId": "1b7f26d9-40dc-4e8a-eda4-86dd0a91a607"
      },
      "outputs": [
        {
          "name": "stdout",
          "output_type": "stream",
          "text": [
            "The element is : 1\n",
            "The element is : 2\n",
            "The element is : 3\n",
            "The element is : 4\n",
            "The element is : 5\n"
          ]
        }
      ],
      "source": [
        "a = [1,2,3,4,5]\n",
        "\n",
        "for temp in a:\n",
        "    print(\"The element is : {}\".format(temp))"
      ]
    },
    {
      "cell_type": "markdown",
      "metadata": {
        "id": "yHqSXDHtyAwc"
      },
      "source": [
        "## While Loops"
      ]
    },
    {
      "cell_type": "code",
      "execution_count": null,
      "metadata": {
        "id": "dfMWeAjAyAwf",
        "outputId": "f97f5b9e-d7bc-4b2d-cb99-2659e300aa95"
      },
      "outputs": [
        {
          "name": "stdout",
          "output_type": "stream",
          "text": [
            "HELLO\n",
            "HELLO\n",
            "HELLO\n",
            "HELLO\n"
          ]
        }
      ],
      "source": [
        "a = 1\n",
        "\n",
        "while a<5:\n",
        "    print(\"HELLO\")\n",
        "    a = a+1"
      ]
    },
    {
      "cell_type": "markdown",
      "metadata": {
        "id": "OH2jzlOSyAwh"
      },
      "source": [
        "## Functions"
      ]
    },
    {
      "cell_type": "markdown",
      "metadata": {
        "id": "WB4XXQ7AyAwk"
      },
      "source": [
        "A function can be defined as the organized block of reusable code, which can be called whenever required.\n",
        "\n",
        "A function is a block of code which only runs when it is called.\n",
        "\n",
        "You can pass data, known as parameters, into a function.\n",
        "\n",
        "A function can return data as a result."
      ]
    },
    {
      "cell_type": "code",
      "execution_count": null,
      "metadata": {
        "id": "7nspJHQ6yAwl",
        "outputId": "e50333ee-cf8d-4f10-e413-4163d7fdbf46"
      },
      "outputs": [
        {
          "data": {
            "text/plain": [
              "'HELLO'"
            ]
          },
          "execution_count": 79,
          "metadata": {},
          "output_type": "execute_result"
        }
      ],
      "source": [
        "\"hello\".upper()"
      ]
    },
    {
      "cell_type": "code",
      "execution_count": null,
      "metadata": {
        "id": "vVIhK6xvyAwr",
        "outputId": "b3b2aa00-ef17-4ef6-fdef-994055cfcf3c"
      },
      "outputs": [
        {
          "data": {
            "text/plain": [
              "'hello'"
            ]
          },
          "execution_count": 80,
          "metadata": {},
          "output_type": "execute_result"
        }
      ],
      "source": [
        "\"HELLO\".lower()"
      ]
    },
    {
      "cell_type": "code",
      "execution_count": null,
      "metadata": {
        "id": "ns0egiexyAwv"
      },
      "outputs": [],
      "source": [
        "a = [1,2,3,4,5]"
      ]
    },
    {
      "cell_type": "code",
      "execution_count": null,
      "metadata": {
        "id": "YSQC46cYyAww",
        "outputId": "2952bafa-d63a-47e3-8191-032aef4ab46d"
      },
      "outputs": [
        {
          "data": {
            "text/plain": [
              "5"
            ]
          },
          "execution_count": 82,
          "metadata": {},
          "output_type": "execute_result"
        }
      ],
      "source": [
        "len(a)"
      ]
    },
    {
      "cell_type": "code",
      "execution_count": null,
      "metadata": {
        "id": "lSqIpNuFyAw4",
        "outputId": "875e4f5f-c31a-4f62-f520-82ae935193c0"
      },
      "outputs": [
        {
          "data": {
            "text/plain": [
              "15"
            ]
          },
          "execution_count": 83,
          "metadata": {},
          "output_type": "execute_result"
        }
      ],
      "source": [
        "sum(a)"
      ]
    },
    {
      "cell_type": "markdown",
      "metadata": {
        "id": "jzNa2BNFyAw7"
      },
      "source": [
        "## Defining Your Own Function"
      ]
    },
    {
      "cell_type": "code",
      "execution_count": null,
      "metadata": {
        "id": "u-gJ89ZdyAw9"
      },
      "outputs": [],
      "source": [
        "def greet(name):\n",
        "    print(\"Good Morning \"+name)"
      ]
    },
    {
      "cell_type": "code",
      "execution_count": null,
      "metadata": {
        "id": "OhdXpsBNyAxA",
        "outputId": "624e1f4f-d487-4a76-ab9b-7fd091360b76"
      },
      "outputs": [
        {
          "name": "stdout",
          "output_type": "stream",
          "text": [
            "Good Morning Jack\n"
          ]
        }
      ],
      "source": [
        "greet(\"Jack\")"
      ]
    },
    {
      "cell_type": "code",
      "execution_count": null,
      "metadata": {
        "id": "5Ue09IEkyAxE"
      },
      "outputs": [],
      "source": [
        "def square(a):\n",
        "    print(a**2)"
      ]
    },
    {
      "cell_type": "code",
      "execution_count": null,
      "metadata": {
        "id": "67-cMsQ8yAxL",
        "outputId": "4cf2acd5-6285-4e15-9cf8-4ca73f005440"
      },
      "outputs": [
        {
          "name": "stdout",
          "output_type": "stream",
          "text": [
            "10000\n"
          ]
        }
      ],
      "source": [
        "square(100)"
      ]
    },
    {
      "cell_type": "code",
      "execution_count": null,
      "metadata": {
        "id": "Zdd69U5ZyAxV"
      },
      "outputs": [],
      "source": [
        "def square(a):\n",
        "    return a**2"
      ]
    },
    {
      "cell_type": "code",
      "execution_count": null,
      "metadata": {
        "id": "5V1zYNXnyAxY"
      },
      "outputs": [],
      "source": [
        "b = square(100)"
      ]
    },
    {
      "cell_type": "code",
      "execution_count": null,
      "metadata": {
        "id": "GUiY7jLByAxc"
      },
      "outputs": [],
      "source": []
    }
  ],
  "metadata": {
    "kernelspec": {
      "display_name": "Python 3 (ipykernel)",
      "language": "python",
      "name": "python3"
    },
    "language_info": {
      "codemirror_mode": {
        "name": "ipython",
        "version": 3
      },
      "file_extension": ".py",
      "mimetype": "text/x-python",
      "name": "python",
      "nbconvert_exporter": "python",
      "pygments_lexer": "ipython3",
      "version": "3.9.12"
    },
    "colab": {
      "provenance": [],
      "include_colab_link": true
    }
  },
  "nbformat": 4,
  "nbformat_minor": 0
}