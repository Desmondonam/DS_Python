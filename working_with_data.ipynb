{
  "nbformat": 4,
  "nbformat_minor": 0,
  "metadata": {
    "colab": {
      "provenance": [],
      "authorship_tag": "ABX9TyOhj3D81YoErKTyqEsktGH1",
      "include_colab_link": true
    },
    "kernelspec": {
      "name": "python3",
      "display_name": "Python 3"
    },
    "language_info": {
      "name": "python"
    }
  },
  "cells": [
    {
      "cell_type": "markdown",
      "metadata": {
        "id": "view-in-github",
        "colab_type": "text"
      },
      "source": [
        "<a href=\"https://colab.research.google.com/github/Desmondonam/DS_Python/blob/main/working_with_data.ipynb\" target=\"_parent\"><img src=\"https://colab.research.google.com/assets/colab-badge.svg\" alt=\"Open In Colab\"/></a>"
      ]
    },
    {
      "cell_type": "markdown",
      "source": [
        "Group summaries"
      ],
      "metadata": {
        "id": "vmfqhvlZ5Frq"
      }
    },
    {
      "cell_type": "code",
      "execution_count": null,
      "metadata": {
        "colab": {
          "base_uri": "https://localhost:8080/"
        },
        "id": "ObiXbVd44-Z_",
        "outputId": "032a0337-5874-42b2-b0b1-0d98dcda7ea4"
      },
      "outputs": [
        {
          "output_type": "stream",
          "name": "stdout",
          "text": [
            "  Categories  Value\n",
            "0          A     10\n",
            "1          B     20\n",
            "2          A     15\n",
            "3          B     25\n",
            "4          A     12\n",
            "5          B     18\n"
          ]
        }
      ],
      "source": [
        "import pandas as pd\n",
        "\n",
        "#create some data\n",
        "data = {\n",
        "    'Categories' : ['A', 'B', 'A', 'B', 'A', 'B'],\n",
        "    'Value': [10, 20, 15, 25, 12, 18]\n",
        "}\n",
        "\n",
        "df = pd.DataFrame(data)\n",
        "print(df)"
      ]
    },
    {
      "cell_type": "code",
      "source": [
        "## Calculate the mean\n",
        "\n",
        "grouped_data = df.groupby('Categories')['Value'].mean()\n",
        "print(grouped_data)"
      ],
      "metadata": {
        "colab": {
          "base_uri": "https://localhost:8080/"
        },
        "id": "qLpYIA5Y6S54",
        "outputId": "95bebff7-2c46-4e67-a7ab-93917f41ec57"
      },
      "execution_count": null,
      "outputs": [
        {
          "output_type": "stream",
          "name": "stdout",
          "text": [
            "Categories\n",
            "A    12.333333\n",
            "B    21.000000\n",
            "Name: Value, dtype: float64\n"
          ]
        }
      ]
    },
    {
      "cell_type": "code",
      "source": [
        "## Calculate the sum\n",
        "\n",
        "grouped_data = df.groupby('Categories')['Value'].sum()\n",
        "print(grouped_data)"
      ],
      "metadata": {
        "colab": {
          "base_uri": "https://localhost:8080/"
        },
        "id": "9fvbadhi7uP3",
        "outputId": "0a97f7c4-5ddf-43c0-a586-24939ff7e0a9"
      },
      "execution_count": null,
      "outputs": [
        {
          "output_type": "stream",
          "name": "stdout",
          "text": [
            "Categories\n",
            "A    37\n",
            "B    63\n",
            "Name: Value, dtype: int64\n"
          ]
        }
      ]
    },
    {
      "cell_type": "markdown",
      "source": [
        "count(), min(), max()"
      ],
      "metadata": {
        "id": "CvrlZYKv82NH"
      }
    },
    {
      "cell_type": "code",
      "source": [
        "## apply different aggregations\n",
        "# Use the agg() - function\n",
        "grouped_data = df.groupby('Categories').agg({'Value': ['mean', 'sum', 'min']})\n",
        "print(grouped_data)"
      ],
      "metadata": {
        "colab": {
          "base_uri": "https://localhost:8080/"
        },
        "id": "fb0g5llG8wMo",
        "outputId": "60c6bbbc-ee3c-4caf-fabc-e9f7b83fe575"
      },
      "execution_count": null,
      "outputs": [
        {
          "output_type": "stream",
          "name": "stdout",
          "text": [
            "                Value        \n",
            "                 mean sum min\n",
            "Categories                   \n",
            "A           12.333333  37  10\n",
            "B           21.000000  63  18\n"
          ]
        }
      ]
    },
    {
      "cell_type": "code",
      "source": [
        "data = {\n",
        "    'Category': ['A', 'B', 'A', 'B', 'A', 'B'],\n",
        "    'Type': ['X', 'Y', 'Y', 'X', 'X', 'Y'],\n",
        "    'Value': [10, 20, 15, 25, 12, 18]\n",
        "}\n",
        "df = pd.DataFrame(data)\n",
        "grouped_data = df.groupby(['Category', 'Type']).agg({'Value': 'sum'})\n",
        "print(grouped_data)"
      ],
      "metadata": {
        "colab": {
          "base_uri": "https://localhost:8080/"
        },
        "id": "4tYgg3iM9gwk",
        "outputId": "ace34910-20b4-4670-cdf9-b2db6d9c304e"
      },
      "execution_count": null,
      "outputs": [
        {
          "output_type": "stream",
          "name": "stdout",
          "text": [
            "               Value\n",
            "Category Type       \n",
            "A        X        22\n",
            "         Y        15\n",
            "B        X        25\n",
            "         Y        38\n"
          ]
        }
      ]
    },
    {
      "cell_type": "code",
      "source": [
        "import pandas as pd\n",
        "\n",
        "#create some data\n",
        "data = {\n",
        "    'Categories' : ['A', 'B', 'A', 'B', 'A', 'B'],\n",
        "    'Value': [10, 20, 15, 25, 12, 18]\n",
        "}\n",
        "\n",
        "df = pd.DataFrame(data)\n",
        "print(df)"
      ],
      "metadata": {
        "colab": {
          "base_uri": "https://localhost:8080/"
        },
        "id": "5BNd0IsjDacw",
        "outputId": "444170cc-896f-4c37-e1b4-6a5af95027f3"
      },
      "execution_count": null,
      "outputs": [
        {
          "output_type": "stream",
          "name": "stdout",
          "text": [
            "  Categories  Value\n",
            "0          A     10\n",
            "1          B     20\n",
            "2          A     15\n",
            "3          B     25\n",
            "4          A     12\n",
            "5          B     18\n"
          ]
        }
      ]
    },
    {
      "cell_type": "code",
      "source": [
        "## Custom aggregation functions\n",
        "# Use the agg()\n",
        "## calculate range - range = maximun - minimum\n",
        "def calculate_range(y):\n",
        "  return y.max() - y.min()\n",
        "\n",
        "grouped_data = df.groupby('Categories')['Value'].agg(calculate_range)\n",
        "print(grouped_data)\n"
      ],
      "metadata": {
        "colab": {
          "base_uri": "https://localhost:8080/"
        },
        "id": "SE947_s3_lxL",
        "outputId": "d6e67173-5794-4246-e7e0-7f79b8e2d5c6"
      },
      "execution_count": null,
      "outputs": [
        {
          "output_type": "stream",
          "name": "stdout",
          "text": [
            "Categories\n",
            "A    5\n",
            "B    7\n",
            "Name: Value, dtype: int64\n"
          ]
        }
      ]
    },
    {
      "cell_type": "markdown",
      "source": [
        "## Dealing with missing data"
      ],
      "metadata": {
        "id": "n402_5NyIKrT"
      }
    },
    {
      "cell_type": "code",
      "source": [
        "## 1. Identify the missing data\n",
        "# In pandas missing data is represented by NaN (Not a Number)\n",
        "# use the function .isnull() - checks missing values   running function notnull() - checks non missing values\n",
        "\n",
        "import pandas as pd\n",
        "\n",
        "data = {\n",
        "    'A': [1, 2, None, 4, 5],\n",
        "    'B': [10, 20, 30, None, 50]\n",
        "}\n",
        "\n",
        "df = pd.DataFrame(data)\n",
        "print(df)"
      ],
      "metadata": {
        "colab": {
          "base_uri": "https://localhost:8080/"
        },
        "id": "R-2saITeDUhM",
        "outputId": "7495b2a5-3a60-4dea-8e1d-9377102ad078"
      },
      "execution_count": null,
      "outputs": [
        {
          "output_type": "stream",
          "name": "stdout",
          "text": [
            "     A     B\n",
            "0  1.0  10.0\n",
            "1  2.0  20.0\n",
            "2  NaN  30.0\n",
            "3  4.0   NaN\n",
            "4  5.0  50.0\n"
          ]
        }
      ]
    },
    {
      "cell_type": "code",
      "source": [
        "print(df.isnull())"
      ],
      "metadata": {
        "colab": {
          "base_uri": "https://localhost:8080/"
        },
        "id": "krOsLMCuJtmG",
        "outputId": "cc8cedab-9e0f-449e-bd4d-4b24fe14097d"
      },
      "execution_count": null,
      "outputs": [
        {
          "output_type": "stream",
          "name": "stdout",
          "text": [
            "       A      B\n",
            "0  False  False\n",
            "1  False  False\n",
            "2   True  False\n",
            "3  False   True\n",
            "4  False  False\n"
          ]
        }
      ]
    },
    {
      "cell_type": "code",
      "source": [
        "# 2. Handle missing value\n",
        "# use of .fillna()  - fill the missing value by applying methods like forward-fill, backward-fill, mean, mode ....\n",
        "\n"
      ],
      "metadata": {
        "id": "NNREfac4KE_q"
      },
      "execution_count": null,
      "outputs": []
    },
    {
      "cell_type": "code",
      "source": [
        "# fill missing data by the mean of the data\n",
        "df.fillna(df.mean(), inplace = True)\n",
        "print(df)"
      ],
      "metadata": {
        "colab": {
          "base_uri": "https://localhost:8080/"
        },
        "id": "1uUmhy8uL4X3",
        "outputId": "355b80b7-2af3-41f4-f0c5-9cddf80f1bb6"
      },
      "execution_count": null,
      "outputs": [
        {
          "output_type": "stream",
          "name": "stdout",
          "text": [
            "     A     B\n",
            "0  1.0  10.0\n",
            "1  2.0  20.0\n",
            "2  3.0  30.0\n",
            "3  4.0  27.5\n",
            "4  5.0  50.0\n"
          ]
        }
      ]
    },
    {
      "cell_type": "code",
      "source": [
        "## Dropping missing data\n",
        "# use the function dropna()"
      ],
      "metadata": {
        "id": "CE9lCWfUMUZs"
      },
      "execution_count": null,
      "outputs": []
    },
    {
      "cell_type": "code",
      "source": [
        "import pandas as pd\n",
        "\n",
        "data = {\n",
        "    'A': [1, 2, None, 4, 5],\n",
        "    'B': [10, 20, 30, None, 50]\n",
        "}\n",
        "\n",
        "df = pd.DataFrame(data)\n",
        "print(df)"
      ],
      "metadata": {
        "colab": {
          "base_uri": "https://localhost:8080/"
        },
        "id": "5t4S4A5QOjiO",
        "outputId": "840ffb97-7da8-4d20-e3c9-e10ba51b5a48"
      },
      "execution_count": null,
      "outputs": [
        {
          "output_type": "stream",
          "name": "stdout",
          "text": [
            "     A     B\n",
            "0  1.0  10.0\n",
            "1  2.0  20.0\n",
            "2  NaN  30.0\n",
            "3  4.0   NaN\n",
            "4  5.0  50.0\n"
          ]
        }
      ]
    },
    {
      "cell_type": "code",
      "source": [
        "df.dropna(inplace = True)\n",
        "print(df)"
      ],
      "metadata": {
        "colab": {
          "base_uri": "https://localhost:8080/"
        },
        "id": "C8T-W0zJOkja",
        "outputId": "391cb268-6027-4c15-dbf2-872fc54ad0cc"
      },
      "execution_count": null,
      "outputs": [
        {
          "output_type": "stream",
          "name": "stdout",
          "text": [
            "     A     B\n",
            "0  1.0  10.0\n",
            "1  2.0  20.0\n",
            "4  5.0  50.0\n"
          ]
        }
      ]
    },
    {
      "cell_type": "code",
      "source": [
        "## Interpolation\n",
        "# use the function .interpolate()\n",
        "\n",
        "df = pd.DataFrame({'A': [1, None, 3, 4, None, 6, 7]})"
      ],
      "metadata": {
        "id": "W1tzp7XNO5rg"
      },
      "execution_count": null,
      "outputs": []
    },
    {
      "cell_type": "code",
      "source": [
        "print(df)"
      ],
      "metadata": {
        "colab": {
          "base_uri": "https://localhost:8080/"
        },
        "id": "hKFBjC8HPnIK",
        "outputId": "efd523f0-9936-4aaa-d3bf-17d3b329874c"
      },
      "execution_count": null,
      "outputs": [
        {
          "output_type": "stream",
          "name": "stdout",
          "text": [
            "     A\n",
            "0  1.0\n",
            "1  NaN\n",
            "2  3.0\n",
            "3  4.0\n",
            "4  NaN\n",
            "5  6.0\n",
            "6  7.0\n"
          ]
        }
      ]
    },
    {
      "cell_type": "code",
      "source": [
        "df['A'].interpolate(method = 'linear', inplace = True)\n",
        "print(df)"
      ],
      "metadata": {
        "colab": {
          "base_uri": "https://localhost:8080/"
        },
        "id": "7pmu9NPnPpRo",
        "outputId": "8eb2c7bc-e4d6-4e94-c5c8-dfdad8c6ed45"
      },
      "execution_count": null,
      "outputs": [
        {
          "output_type": "stream",
          "name": "stdout",
          "text": [
            "     A\n",
            "0  1.0\n",
            "1  2.0\n",
            "2  3.0\n",
            "3  4.0\n",
            "4  5.0\n",
            "5  6.0\n",
            "6  7.0\n"
          ]
        }
      ]
    },
    {
      "cell_type": "code",
      "source": [
        "## getting the summary of the missing data\n",
        "#use .isnull() together with .sum()\n",
        "df = pd.DataFrame({'A': [1, None, 3, 4, None, 6, 7]})"
      ],
      "metadata": {
        "id": "JPz5aKXOQMWe"
      },
      "execution_count": null,
      "outputs": []
    },
    {
      "cell_type": "code",
      "source": [
        "print(df)"
      ],
      "metadata": {
        "colab": {
          "base_uri": "https://localhost:8080/"
        },
        "id": "24j_IM_3RbsL",
        "outputId": "7d7b8703-407f-4bf3-c32a-58c4ae3484dd"
      },
      "execution_count": null,
      "outputs": [
        {
          "output_type": "stream",
          "name": "stdout",
          "text": [
            "     A\n",
            "0  1.0\n",
            "1  NaN\n",
            "2  3.0\n",
            "3  4.0\n",
            "4  NaN\n",
            "5  6.0\n",
            "6  7.0\n"
          ]
        }
      ]
    },
    {
      "cell_type": "code",
      "source": [
        "print(df.isnull().sum())"
      ],
      "metadata": {
        "colab": {
          "base_uri": "https://localhost:8080/"
        },
        "id": "8MrfE78FREk2",
        "outputId": "4e8a7530-9a22-4d86-bf0f-2e349351d666"
      },
      "execution_count": null,
      "outputs": [
        {
          "output_type": "stream",
          "name": "stdout",
          "text": [
            "A    2\n",
            "dtype: int64\n"
          ]
        }
      ]
    },
    {
      "cell_type": "code",
      "source": [
        "## Forward fill in handling missing data\n",
        "## use ffill\n",
        "df = pd.DataFrame({'A': [1, None, 3, 4, None, 6, 7]})\n"
      ],
      "metadata": {
        "id": "exftbMu6RT3N"
      },
      "execution_count": null,
      "outputs": []
    },
    {
      "cell_type": "code",
      "source": [
        "print(df)"
      ],
      "metadata": {
        "colab": {
          "base_uri": "https://localhost:8080/"
        },
        "id": "a6s1m_8nSNsf",
        "outputId": "c506b1da-6e81-4a2a-d454-01a7ef357d73"
      },
      "execution_count": null,
      "outputs": [
        {
          "output_type": "stream",
          "name": "stdout",
          "text": [
            "     A\n",
            "0  1.0\n",
            "1  NaN\n",
            "2  3.0\n",
            "3  4.0\n",
            "4  NaN\n",
            "5  6.0\n",
            "6  7.0\n"
          ]
        }
      ]
    },
    {
      "cell_type": "code",
      "source": [
        "df = df['A'].fillna(method = 'ffill')\n",
        "print(df)"
      ],
      "metadata": {
        "colab": {
          "base_uri": "https://localhost:8080/"
        },
        "id": "Vsf0UQw-SRc6",
        "outputId": "a9df678c-4adb-479d-bb24-f297e6f9bed0"
      },
      "execution_count": null,
      "outputs": [
        {
          "output_type": "stream",
          "name": "stdout",
          "text": [
            "0    1.0\n",
            "1    1.0\n",
            "2    3.0\n",
            "3    4.0\n",
            "4    4.0\n",
            "5    6.0\n",
            "6    7.0\n",
            "Name: A, dtype: float64\n"
          ]
        }
      ]
    },
    {
      "cell_type": "code",
      "source": [],
      "metadata": {
        "id": "dOgI_PtZSyub"
      },
      "execution_count": null,
      "outputs": []
    },
    {
      "cell_type": "markdown",
      "source": [
        "# Assignment 1"
      ],
      "metadata": {
        "id": "mdUa_tdmOidB"
      }
    },
    {
      "cell_type": "markdown",
      "source": [
        "### Data Analysis and Visualization with Pandas and Matplotlib:\n",
        "Choose a dataset of your interest (e.g., movies, weather, sports, etc.) You can get the dataset from Kaggle. Load the dataset into a pandas DataFrame and perform exploratory data analysis (EDA) to understand the data's structure and characteristics. Use pandas to clean the data, **handle missing values**, and perform data transformations. Create various visualizations using matplotlib to present insights and trends in the data. Data Cleaning and Preprocessing for Machine Learning:"
      ],
      "metadata": {
        "id": "N9XG4kScTg3p"
      }
    },
    {
      "cell_type": "code",
      "source": [],
      "metadata": {
        "id": "GoF-ZP6dVLHP"
      },
      "execution_count": null,
      "outputs": []
    }
  ]
}