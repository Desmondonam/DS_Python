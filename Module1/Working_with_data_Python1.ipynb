{
  "nbformat": 4,
  "nbformat_minor": 0,
  "metadata": {
    "colab": {
      "provenance": [],
      "authorship_tag": "ABX9TyPGod9lBnyZQ0Bv6Z0CKfZ7",
      "include_colab_link": true
    },
    "kernelspec": {
      "name": "python3",
      "display_name": "Python 3"
    },
    "language_info": {
      "name": "python"
    }
  },
  "cells": [
    {
      "cell_type": "markdown",
      "metadata": {
        "id": "view-in-github",
        "colab_type": "text"
      },
      "source": [
        "<a href=\"https://colab.research.google.com/github/Desmondonam/DS_Python/blob/main/Working_with_data_Python1.ipynb\" target=\"_parent\"><img src=\"https://colab.research.google.com/assets/colab-badge.svg\" alt=\"Open In Colab\"/></a>"
      ]
    },
    {
      "cell_type": "markdown",
      "source": [
        "Covered here are :\n",
        "\n",
        "group summaries\n",
        "\n",
        "Managing missing values\n",
        "\n",
        "various types of joins, merge\n",
        "\n",
        "Partitioning data into train test sets\n",
        "\n",
        "scaling of data (Useful for clustering)"
      ],
      "metadata": {
        "id": "XJ--MHghNCdp"
      }
    },
    {
      "cell_type": "code",
      "execution_count": 1,
      "metadata": {
        "colab": {
          "base_uri": "https://localhost:8080/"
        },
        "id": "c6qGksr2Mpcc",
        "outputId": "dd9d9a00-e133-439d-8429-d1ae154c066c"
      },
      "outputs": [
        {
          "output_type": "stream",
          "name": "stdout",
          "text": [
            "target\n",
            "setosa        5.006\n",
            "versicolor    5.936\n",
            "virginica     6.588\n",
            "Name: sepal length (cm), dtype: float64\n"
          ]
        }
      ],
      "source": [
        "## grouped dataset\n",
        "import pandas as pd\n",
        "\n",
        "# Using the built-in Iris dataset from scikit-learn\n",
        "from sklearn.datasets import load_iris\n",
        "data = load_iris()\n",
        "df = pd.DataFrame(data.data, columns=data.feature_names)\n",
        "df['target'] = data.target_names[data.target]\n",
        "\n",
        "# Group summary - Mean sepal length for each species\n",
        "grouped_data = df.groupby('target')['sepal length (cm)'].mean()\n",
        "print(grouped_data)"
      ]
    },
    {
      "cell_type": "markdown",
      "source": [
        "### Joins and merges"
      ],
      "metadata": {
        "id": "qPUEqgl4gfbg"
      }
    },
    {
      "cell_type": "code",
      "source": [
        "# Using the built-in Diabetes dataset from scikit-learn\n",
        "from sklearn.datasets import load_diabetes\n",
        "data = load_diabetes()\n",
        "df1 = pd.DataFrame(data.data, columns=data.feature_names)\n",
        "df1['target'] = data.target\n",
        "\n",
        "# Create another DataFrame with additional information\n",
        "additional_data = {\n",
        "    'age_group': ['young', 'middle-aged', 'elderly', 'young', 'middle-aged', 'elderly'],\n",
        "    'BMI_group': ['normal', 'overweight', 'obese', 'overweight', 'normal', 'obese']\n",
        "}\n",
        "df2 = pd.DataFrame(additional_data)\n",
        "\n",
        "# Merge the two DataFrames based on common columns\n",
        "merged_data = pd.merge(df1, df2, left_index=True, right_index=True)\n",
        "print(merged_data.head())"
      ],
      "metadata": {
        "colab": {
          "base_uri": "https://localhost:8080/"
        },
        "id": "i98eJ5opa3la",
        "outputId": "80194b1d-18ee-4ead-c486-af4e48a2130b"
      },
      "execution_count": 6,
      "outputs": [
        {
          "output_type": "stream",
          "name": "stdout",
          "text": [
            "        age       sex       bmi        bp        s1        s2        s3  \\\n",
            "0  0.038076  0.050680  0.061696  0.021872 -0.044223 -0.034821 -0.043401   \n",
            "1 -0.001882 -0.044642 -0.051474 -0.026328 -0.008449 -0.019163  0.074412   \n",
            "2  0.085299  0.050680  0.044451 -0.005670 -0.045599 -0.034194 -0.032356   \n",
            "3 -0.089063 -0.044642 -0.011595 -0.036656  0.012191  0.024991 -0.036038   \n",
            "4  0.005383 -0.044642 -0.036385  0.021872  0.003935  0.015596  0.008142   \n",
            "\n",
            "         s4        s5        s6  target    age_group   BMI_group  \n",
            "0 -0.002592  0.019907 -0.017646   151.0        young      normal  \n",
            "1 -0.039493 -0.068332 -0.092204    75.0  middle-aged  overweight  \n",
            "2 -0.002592  0.002861 -0.025930   141.0      elderly       obese  \n",
            "3  0.034309  0.022688 -0.009362   206.0        young  overweight  \n",
            "4 -0.002592 -0.031988 -0.046641   135.0  middle-aged      normal  \n"
          ]
        }
      ]
    },
    {
      "cell_type": "code",
      "source": [
        "### Partitioning dataset to train test sets\n",
        "# Using the built-in Breast Cancer dataset from scikit-learn\n",
        "from sklearn.datasets import load_breast_cancer\n",
        "from sklearn.model_selection import train_test_split\n",
        "data = load_breast_cancer()\n",
        "X, y = data.data, data.target\n",
        "\n",
        "# Splitting the dataset into training and testing sets\n",
        "X_train, X_test, y_train, y_test = train_test_split(X, y, test_size=0.2, random_state=42)"
      ],
      "metadata": {
        "id": "F2Ez5chlgdOK"
      },
      "execution_count": 7,
      "outputs": []
    },
    {
      "cell_type": "code",
      "source": [
        "## scaling of data\n",
        "# Using the built-in Wine dataset from scikit-learn\n",
        "from sklearn.datasets import load_wine\n",
        "from sklearn.preprocessing import StandardScaler\n",
        "data = load_wine()\n",
        "X, y = data.data, data.target\n",
        "\n",
        "# Scaling the features using StandardScaler\n",
        "scaler = StandardScaler()\n",
        "X_scaled = scaler.fit_transform(X)"
      ],
      "metadata": {
        "id": "sG8c9xqGguio"
      },
      "execution_count": 8,
      "outputs": []
    },
    {
      "cell_type": "code",
      "source": [],
      "metadata": {
        "id": "UFNyLPZaipnx"
      },
      "execution_count": null,
      "outputs": []
    }
  ]
}